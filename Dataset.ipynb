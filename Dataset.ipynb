{
 "cells": [
  {
   "cell_type": "code",
   "execution_count": null,
   "id": "9d1cf230",
   "metadata": {},
   "outputs": [],
   "source": [
    "import matplotlib.pyplot as plt\n",
    "import pandas as pd\n",
    "from scipy.stats import linregress\n",
    "import seaborn as sns"
   ]
  },
  {
   "cell_type": "code",
   "execution_count": null,
   "id": "0ca1cc69",
   "metadata": {},
   "outputs": [],
   "source": [
    "#This is the full data frame with some extra columns removed\n",
    "health_df = pd.read_csv(\"Resources/Provisional_COVID-19_Deaths_by_Sex_and_Age.csv\")\n",
    "health_df = health_df.drop(columns = [\"Data As Of\", \"Start Date\", \"End Date\", \"Footnote\"])\n",
    "health_df.head()"
   ]
  },
  {
   "cell_type": "code",
   "execution_count": null,
   "id": "de6c366b",
   "metadata": {},
   "outputs": [],
   "source": [
    "#I have removed some random age groups\n",
    "age_adjusted_df = health_df.loc[(health_df[\"Age Group\"] != \"40-49 years\") &\n",
    "                                (health_df[\"Age Group\"] != \"30-39 years\") &\n",
    "                                (health_df[\"Age Group\"] != \"18-29 years\") &\n",
    "                                (health_df[\"Age Group\"] != \"0-17 years\") &\n",
    "                                (health_df[\"Age Group\"] != \"50-64 years\"), :]"
   ]
  },
  {
   "cell_type": "code",
   "execution_count": null,
   "id": "902b1bc0",
   "metadata": {},
   "outputs": [],
   "source": [
    "#This data frame shows deaths regardless of Year and Month\n",
    "#This data frame can be sorted by State, Sex, and Age Group\n",
    "#State: You can choose any of the 50 states, Puerto Rico, or the United States as a whole\n",
    "#Sex: Male, Female, All Sexes\n",
    "#Age Group:\n",
    "    #All ages\n",
    "    #Under 1 year\n",
    "    #1-4 years old\n",
    "    #5-14 years old\n",
    "    #15-24 years old\n",
    "    #25-34 years old\n",
    "    #35-44 years old\n",
    "    #45-54 years old\n",
    "    #55-64 years old\n",
    "    #65-74 years old\n",
    "    #75-84 years old\n",
    "    #85 years and over\n",
    "total_df = age_adjusted_df.loc[health_df[\"Group\"] == \"By Total\", :]\n",
    "total_df = total_df.drop(columns = [\"Year\", \"Month\", \"Group\"])\n",
    "total_df.head()"
   ]
  },
  {
   "cell_type": "code",
   "execution_count": null,
   "id": "daa57772",
   "metadata": {},
   "outputs": [],
   "source": [
    "#This data frame shows deaths by year, regardless of Month.\n",
    "#You can pick 2020, 2021, or 2022\n",
    "#This data frame can be sorted by State, Sex, and Age Group\n",
    "#State: You can choose any of the 50 states, Puerto Rico, or the United States as a whole\n",
    "#Sex: Male, Female, All Sexes\n",
    "#Age Group:\n",
    "    #All ages\n",
    "    #Under 1 year\n",
    "    #1-4 years old\n",
    "    #5-14 years old\n",
    "    #15-24 years old\n",
    "    #25-34 years old\n",
    "    #35-44 years old\n",
    "    #45-54 years old\n",
    "    #55-64 years old\n",
    "    #65-74 years old\n",
    "    #75-84 years old\n",
    "    #85 years and over\n",
    "year_df = age_adjusted_df.loc[health_df[\"Group\"] == \"By Year\", :]\n",
    "year_df = year_df.drop(columns = [\"Month\", \"Group\"])\n",
    "year_df.head()"
   ]
  },
  {
   "cell_type": "code",
   "execution_count": null,
   "id": "827083d8",
   "metadata": {},
   "outputs": [],
   "source": [
    "#This data frame shows deaths by Month.\n",
    "#You can pick any month numerically (ex. January = 1.0)\n",
    "#This data frame can be sorted by Year, State, Sex, and Age Group\n",
    "#Year: You can pick 2020, 2021, or 2022\n",
    "#State: You can choose any of the 50 states, Puerto Rico, or the United States as a whole\n",
    "#Sex: Male, Female, All Sexes\n",
    "#Age Group:\n",
    "    #All ages\n",
    "    #Under 1 year\n",
    "    #1-4 years old\n",
    "    #5-14 years old\n",
    "    #15-24 years old\n",
    "    #25-34 years old\n",
    "    #35-44 years old\n",
    "    #45-54 years old\n",
    "    #55-64 years old\n",
    "    #65-74 years old\n",
    "    #75-84 years old\n",
    "    #85 years and over\n",
    "month_df = age_adjusted_df.loc[health_df[\"Group\"] == \"By Month\", :]\n",
    "month_df = month_df.drop(columns = \"Group\")\n",
    "month_df.head()"
   ]
  },
  {
   "cell_type": "code",
   "execution_count": null,
   "id": "d2f99638",
   "metadata": {},
   "outputs": [],
   "source": [
    "men = year_df[\"Sex\"] == \"Men\"\n",
    "print(f\"There are {men.count()} men in the dataframe.\")\n",
    "      \n",
    "women = year_df[\"Sex\"] == \"Women\"\n",
    "print(f\"There are {women.count()} women in the dataframe.\")    "
   ]
  },
  {
   "cell_type": "code",
   "execution_count": null,
   "id": "aa0a879b",
   "metadata": {},
   "outputs": [],
   "source": [
    "ax = sns.barplot(data = year_df, x=\"Year\", y = \"COVID-19 Deaths\", hue = \"Sex\", ci=None, palette=\"viridis\")\n",
    "plt.title(\"COVID-19 Deaths from 2019-2022\")\n",
    "ax.set_xticklabels([\"2020\", \"2021\", \"2022\"])\n",
    "plt.show()\n",
    "\n",
    "#This plot shows that more men have died from COVID than women because\n",
    "#the above line of code states there are an equal number of men and women in the dataframe.\n",
    "#The most people died in 2021, but it was the only time we have an entire year's data."
   ]
  },
  {
   "cell_type": "code",
   "execution_count": null,
   "id": "0a4638c3",
   "metadata": {},
   "outputs": [],
   "source": [
    "#The most COVID deaths occurred in Dec 2020 and Jan 2021. \n",
    "#From Feb - Jun 2021, there was a steady decline as vaccines became available.\n",
    "\n",
    "months = [\"Jan\", \"Feb\", \"Mar\", \"Apr\", \"May\", \"Jun\", \"Jul\", \"Aug\", \"Sep\", \"Oct\", \"Nov\", \"Dec\"]\n",
    "\n",
    "f, ax = plt.subplots(figsize = (8,6))\n",
    "ax = sns.barplot(data = month_df, x=\"Month\", y = \"COVID-19 Deaths\", \n",
    "                 hue = \"Year\", ci=None, palette=\"rocket\")\n",
    "ax.set_xticklabels(months)\n",
    "ax.set_title(\"COVID-19 Deaths from 2019-2022 by Month\")\n",
    "plt.legend(loc=\"upper center\")\n",
    "plt.show()"
   ]
  },
  {
   "cell_type": "code",
   "execution_count": null,
   "id": "2370f99c",
   "metadata": {},
   "outputs": [],
   "source": []
  }
 ],
 "metadata": {
  "kernelspec": {
   "display_name": "Python 3 (ipykernel)",
   "language": "python",
   "name": "python3"
  },
  "language_info": {
   "codemirror_mode": {
    "name": "ipython",
    "version": 3
   },
   "file_extension": ".py",
   "mimetype": "text/x-python",
   "name": "python",
   "nbconvert_exporter": "python",
   "pygments_lexer": "ipython3",
   "version": "3.8.12"
  }
 },
 "nbformat": 4,
 "nbformat_minor": 5
}
