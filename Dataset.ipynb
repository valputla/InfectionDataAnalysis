{
 "cells": [
  {
   "cell_type": "code",
   "execution_count": null,
   "id": "3c9b489a",
   "metadata": {},
   "outputs": [],
   "source": [
    "import matplotlib.pyplot as plt\n",
    "import pandas as pd\n",
    "from scipy.stats import linregress\n",
    "import seaborn as sns"
   ]
  },
  {
   "cell_type": "code",
   "execution_count": null,
   "id": "145e75fb",
   "metadata": {},
   "outputs": [],
   "source": [
    "#This is the full data frame with some extra columns removed\n",
    "health_df = pd.read_csv(\"Resources/Provisional_COVID-19_Deaths_by_Sex_and_Age.csv\")\n",
    "health_df = health_df.drop(columns = [\"Data As Of\", \"Start Date\", \"End Date\", \"Footnote\"])\n",
    "health_df.head()"
   ]
  },
  {
   "cell_type": "code",
   "execution_count": null,
   "id": "779e0d62",
   "metadata": {},
   "outputs": [],
   "source": [
    "#I have removed some random age groups\n",
    "age_adjusted_df = health_df.loc[(health_df[\"Age Group\"] != \"40-49 years\") &\n",
    "                                (health_df[\"Age Group\"] != \"30-39 years\") &\n",
    "                                (health_df[\"Age Group\"] != \"18-29 years\") &\n",
    "                                (health_df[\"Age Group\"] != \"0-17 years\") &\n",
    "                                (health_df[\"Age Group\"] != \"50-64 years\"), :]"
   ]
  },
  {
   "cell_type": "code",
   "execution_count": null,
   "id": "2aa45a94",
   "metadata": {},
   "outputs": [],
   "source": [
    "#This data frame shows deaths regardless of Year and Month\n",
    "#This data frame can be sorted by State, Sex, and Age Group\n",
    "#State: You can choose any of the 50 states, Puerto Rico, or the United States as a whole\n",
    "#Sex: Male, Female, All Sexes\n",
    "#Age Group:\n",
    "    #All ages\n",
    "    #Under 1 year\n",
    "    #1-4 years old\n",
    "    #5-14 years old\n",
    "    #15-24 years old\n",
    "    #25-34 years old\n",
    "    #35-44 years old\n",
    "    #45-54 years old\n",
    "    #55-64 years old\n",
    "    #65-74 years old\n",
    "    #75-84 years old\n",
    "    #85 years and over\n",
    "total_df = age_adjusted_df.loc[health_df[\"Group\"] == \"By Total\", :]\n",
    "total_df = total_df.drop(columns = [\"Year\", \"Month\", \"Group\"])\n",
    "total_df.head()"
   ]
  },
  {
   "cell_type": "code",
   "execution_count": null,
   "id": "3889d718",
   "metadata": {},
   "outputs": [],
   "source": [
    "#This data frame shows deaths by year, regardless of Month.\n",
    "#You can pick 2020, 2021, or 2022\n",
    "#This data frame can be sorted by State, Sex, and Age Group\n",
    "#State: You can choose any of the 50 states, Puerto Rico, or the United States as a whole\n",
    "#Sex: Male, Female, All Sexes\n",
    "#Age Group:\n",
    "    #All ages\n",
    "    #Under 1 year\n",
    "    #1-4 years old\n",
    "    #5-14 years old\n",
    "    #15-24 years old\n",
    "    #25-34 years old\n",
    "    #35-44 years old\n",
    "    #45-54 years old\n",
    "    #55-64 years old\n",
    "    #65-74 years old\n",
    "    #75-84 years old\n",
    "    #85 years and over\n",
    "year_df = age_adjusted_df.loc[health_df[\"Group\"] == \"By Year\", :]\n",
    "year_df = year_df.drop(columns = [\"Month\", \"Group\"])\n",
    "year_df.head()"
   ]
  },
  {
   "cell_type": "code",
   "execution_count": null,
   "id": "5a6d1bc4",
   "metadata": {},
   "outputs": [],
   "source": [
    "#This data frame shows deaths by Month.\n",
    "#You can pick any month numerically (ex. January = 1.0)\n",
    "#This data frame can be sorted by Year, State, Sex, and Age Group\n",
    "#Year: You can pick 2020, 2021, or 2022\n",
    "#State: You can choose any of the 50 states, Puerto Rico, or the United States as a whole\n",
    "#Sex: Male, Female, All Sexes\n",
    "#Age Group:\n",
    "    #All ages\n",
    "    #Under 1 year\n",
    "    #1-4 years old\n",
    "    #5-14 years old\n",
    "    #15-24 years old\n",
    "    #25-34 years old\n",
    "    #35-44 years old\n",
    "    #45-54 years old\n",
    "    #55-64 years old\n",
    "    #65-74 years old\n",
    "    #75-84 years old\n",
    "    #85 years and over\n",
    "month_df = age_adjusted_df.loc[health_df[\"Group\"] == \"By Month\", :]\n",
    "month_df = month_df.drop(columns = \"Group\")\n",
    "month_df.head()"
   ]
  },
  {
   "cell_type": "code",
   "execution_count": null,
   "id": "ece13667",
   "metadata": {},
   "outputs": [],
   "source": [
    "men = year_df[\"Sex\"] == \"Men\"\n",
    "print(f\"There are {men.count()} men in the dataframe.\")\n",
    "      \n",
    "women = year_df[\"Sex\"] == \"Women\"\n",
    "print(f\"There are {women.count()} women in the dataframe.\")    "
   ]
  },
  {
   "cell_type": "code",
   "execution_count": null,
   "id": "aa0a879b",
   "metadata": {},
   "outputs": [],
   "source": [
    "sns.barplot(data = year_df, x=\"Year\", y = \"COVID-19 Deaths\", hue = \"Sex\")\n",
    "plt.title(\"COVID-19 Deaths from 2019-2022\")\n",
    "plt.show()\n",
    "\n",
    "#This plot shows that more men have died from COVID than women because\n",
    "#the above line of code states there are an equal number of men and women in the dataframe."
   ]
  },
  {
   "cell_type": "code",
   "execution_count": null,
   "id": "0a4638c3",
   "metadata": {},
   "outputs": [],
   "source": [
    "#The most COVID deaths occurred in Dec 2020 and Jan 2021. \n",
    "#From Feb - Jun 2021, there was a steady decline as vaccines became available.\n",
    "\n",
    "months = [\"Jan\", \"Feb\", \"Mar\", \"Apr\", \"May\", \"Jun\", \"Jul\", \"Aug\", \"Sep\", \"Oct\", \"Nov\", \"Dec\"]\n",
    "\n",
    "f, ax = plt.subplots(figsize = (8,6))\n",
    "ax = sns.barplot(data = month_df, x=\"Month\", y = \"COVID-19 Deaths\", \n",
    "                 hue = \"Year\")\n",
    "ax.set_xticklabels(months)\n",
    "ax.set_title(\"COVID-19 Deaths from 2019-2022 by Month\")\n",
    "plt.show()"
   ]
  },
  {
   "cell_type": "code",
   "execution_count": null,
   "id": "6e32a9a8",
   "metadata": {},
   "outputs": [],
   "source": [
    "states = ['Alabama', 'Alaska', 'Arizona', 'Arkansas',\n",
    "       'California', 'Colorado', 'Connecticut', 'Delaware',\n",
    "       'District of Columbia', 'Florida', 'Georgia', 'Hawaii', 'Idaho',\n",
    "       'Illinois', 'Indiana', 'Iowa', 'Kansas', 'Kentucky', 'Louisiana',\n",
    "       'Maine', 'Maryland', 'Massachusetts', 'Michigan', 'Minnesota',\n",
    "       'Mississippi', 'Missouri', 'Montana', 'Nebraska', 'Nevada',\n",
    "       'New Hampshire', 'New Jersey', 'New Mexico', 'New York',\n",
    "       'New York City', 'North Carolina', 'North Dakota', 'Ohio',\n",
    "       'Oklahoma', 'Oregon', 'Pennsylvania', 'Rhode Island',\n",
    "       'South Carolina', 'South Dakota', 'Tennessee', 'Texas', 'Utah',\n",
    "       'Vermont', 'Virginia', 'Washington', 'West Virginia', 'Wisconsin',\n",
    "       'Wyoming', 'Puerto Rico']\n",
    "\n",
    "covid_death_by_state = total_df.groupby([\"State\"])[\"COVID-19 Deaths\"].sum()\n",
    "\n",
    "\n",
    "fig, ax = plt.subplots(figsize = (10,10))\n",
    "covid_death_by_state.plot(kind=\"bar\")\n",
    "# plt.ylim(22, 38)\n",
    "plt.tight_layout()\n",
    "plt.show()"
   ]
  }
 ],
 "metadata": {
  "kernelspec": {
   "display_name": "Python [conda env:PythonData38] *",
   "language": "python",
   "name": "conda-env-PythonData38-py"
  },
  "language_info": {
   "codemirror_mode": {
    "name": "ipython",
    "version": 3
   },
   "file_extension": ".py",
   "mimetype": "text/x-python",
   "name": "python",
   "nbconvert_exporter": "python",
   "pygments_lexer": "ipython3",
   "version": "3.8.12"
  }
 },
 "nbformat": 4,
 "nbformat_minor": 5
}
