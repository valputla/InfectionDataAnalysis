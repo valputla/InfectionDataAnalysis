{
 "cells": [
  {
   "cell_type": "code",
   "execution_count": 308,
   "id": "3c9b489a",
   "metadata": {},
   "outputs": [],
   "source": [
    "import matplotlib.pyplot as plt\n",
    "import pandas as pd\n",
    "from scipy.stats import linregress\n",
    "import seaborn as sns\n",
    "import numpy as np\n",
    "from scipy.stats import sem"
   ]
  },
  {
   "cell_type": "code",
   "execution_count": 222,
   "id": "145e75fb",
   "metadata": {},
   "outputs": [
    {
     "data": {
      "text/html": [
       "<div>\n",
       "<style scoped>\n",
       "    .dataframe tbody tr th:only-of-type {\n",
       "        vertical-align: middle;\n",
       "    }\n",
       "\n",
       "    .dataframe tbody tr th {\n",
       "        vertical-align: top;\n",
       "    }\n",
       "\n",
       "    .dataframe thead th {\n",
       "        text-align: right;\n",
       "    }\n",
       "</style>\n",
       "<table border=\"1\" class=\"dataframe\">\n",
       "  <thead>\n",
       "    <tr style=\"text-align: right;\">\n",
       "      <th></th>\n",
       "      <th>Group</th>\n",
       "      <th>Year</th>\n",
       "      <th>Month</th>\n",
       "      <th>State</th>\n",
       "      <th>Sex</th>\n",
       "      <th>Age Group</th>\n",
       "      <th>COVID-19 Deaths</th>\n",
       "      <th>Total Deaths</th>\n",
       "      <th>Pneumonia Deaths</th>\n",
       "      <th>Pneumonia and COVID-19 Deaths</th>\n",
       "      <th>Influenza Deaths</th>\n",
       "      <th>Pneumonia, Influenza, or COVID-19 Deaths</th>\n",
       "    </tr>\n",
       "  </thead>\n",
       "  <tbody>\n",
       "    <tr>\n",
       "      <th>0</th>\n",
       "      <td>By Total</td>\n",
       "      <td>NaN</td>\n",
       "      <td>NaN</td>\n",
       "      <td>United States</td>\n",
       "      <td>All Sexes</td>\n",
       "      <td>All Ages</td>\n",
       "      <td>983409.0</td>\n",
       "      <td>7638997.0</td>\n",
       "      <td>865864.0</td>\n",
       "      <td>509298.0</td>\n",
       "      <td>10810.0</td>\n",
       "      <td>1349186.0</td>\n",
       "    </tr>\n",
       "    <tr>\n",
       "      <th>1</th>\n",
       "      <td>By Total</td>\n",
       "      <td>NaN</td>\n",
       "      <td>NaN</td>\n",
       "      <td>United States</td>\n",
       "      <td>All Sexes</td>\n",
       "      <td>Under 1 year</td>\n",
       "      <td>248.0</td>\n",
       "      <td>42516.0</td>\n",
       "      <td>524.0</td>\n",
       "      <td>31.0</td>\n",
       "      <td>28.0</td>\n",
       "      <td>768.0</td>\n",
       "    </tr>\n",
       "    <tr>\n",
       "      <th>2</th>\n",
       "      <td>By Total</td>\n",
       "      <td>NaN</td>\n",
       "      <td>NaN</td>\n",
       "      <td>United States</td>\n",
       "      <td>All Sexes</td>\n",
       "      <td>0-17 years</td>\n",
       "      <td>962.0</td>\n",
       "      <td>75444.0</td>\n",
       "      <td>1520.0</td>\n",
       "      <td>258.0</td>\n",
       "      <td>206.0</td>\n",
       "      <td>2427.0</td>\n",
       "    </tr>\n",
       "    <tr>\n",
       "      <th>3</th>\n",
       "      <td>By Total</td>\n",
       "      <td>NaN</td>\n",
       "      <td>NaN</td>\n",
       "      <td>United States</td>\n",
       "      <td>All Sexes</td>\n",
       "      <td>1-4 years</td>\n",
       "      <td>121.0</td>\n",
       "      <td>7931.0</td>\n",
       "      <td>306.0</td>\n",
       "      <td>30.0</td>\n",
       "      <td>70.0</td>\n",
       "      <td>467.0</td>\n",
       "    </tr>\n",
       "    <tr>\n",
       "      <th>4</th>\n",
       "      <td>By Total</td>\n",
       "      <td>NaN</td>\n",
       "      <td>NaN</td>\n",
       "      <td>United States</td>\n",
       "      <td>All Sexes</td>\n",
       "      <td>5-14 years</td>\n",
       "      <td>303.0</td>\n",
       "      <td>12627.0</td>\n",
       "      <td>439.0</td>\n",
       "      <td>98.0</td>\n",
       "      <td>84.0</td>\n",
       "      <td>727.0</td>\n",
       "    </tr>\n",
       "  </tbody>\n",
       "</table>\n",
       "</div>"
      ],
      "text/plain": [
       "      Group  Year  Month          State        Sex     Age Group  \\\n",
       "0  By Total   NaN    NaN  United States  All Sexes      All Ages   \n",
       "1  By Total   NaN    NaN  United States  All Sexes  Under 1 year   \n",
       "2  By Total   NaN    NaN  United States  All Sexes    0-17 years   \n",
       "3  By Total   NaN    NaN  United States  All Sexes     1-4 years   \n",
       "4  By Total   NaN    NaN  United States  All Sexes    5-14 years   \n",
       "\n",
       "   COVID-19 Deaths  Total Deaths  Pneumonia Deaths  \\\n",
       "0         983409.0     7638997.0          865864.0   \n",
       "1            248.0       42516.0             524.0   \n",
       "2            962.0       75444.0            1520.0   \n",
       "3            121.0        7931.0             306.0   \n",
       "4            303.0       12627.0             439.0   \n",
       "\n",
       "   Pneumonia and COVID-19 Deaths  Influenza Deaths  \\\n",
       "0                       509298.0           10810.0   \n",
       "1                           31.0              28.0   \n",
       "2                          258.0             206.0   \n",
       "3                           30.0              70.0   \n",
       "4                           98.0              84.0   \n",
       "\n",
       "   Pneumonia, Influenza, or COVID-19 Deaths  \n",
       "0                                 1349186.0  \n",
       "1                                     768.0  \n",
       "2                                    2427.0  \n",
       "3                                     467.0  \n",
       "4                                     727.0  "
      ]
     },
     "execution_count": 222,
     "metadata": {},
     "output_type": "execute_result"
    }
   ],
   "source": [
    "#This is the full data frame with some extra columns removed\n",
    "health_df = pd.read_csv(\"Resources/Provisional_COVID-19_Deaths_by_Sex_and_Age.csv\")\n",
    "health_df = health_df.drop(columns = [\"Data As Of\", \"Start Date\", \"End Date\", \"Footnote\"])\n",
    "health_df.head()"
   ]
  },
  {
   "cell_type": "code",
   "execution_count": 223,
   "id": "779e0d62",
   "metadata": {},
   "outputs": [],
   "source": [
    "#I have removed some random age groups\n",
    "age_adjusted_df = health_df.loc[(health_df[\"Age Group\"] != \"40-49 years\") &\n",
    "                                (health_df[\"Age Group\"] != \"30-39 years\") &\n",
    "                                (health_df[\"Age Group\"] != \"18-29 years\") &\n",
    "                                (health_df[\"Age Group\"] != \"0-17 years\") &\n",
    "                                (health_df[\"Age Group\"] != \"50-64 years\"), :]"
   ]
  },
  {
   "cell_type": "raw",
   "id": "0054344d",
   "metadata": {},
   "source": []
  },
  {
   "cell_type": "code",
   "execution_count": 224,
   "id": "2aa45a94",
   "metadata": {},
   "outputs": [
    {
     "data": {
      "text/html": [
       "<div>\n",
       "<style scoped>\n",
       "    .dataframe tbody tr th:only-of-type {\n",
       "        vertical-align: middle;\n",
       "    }\n",
       "\n",
       "    .dataframe tbody tr th {\n",
       "        vertical-align: top;\n",
       "    }\n",
       "\n",
       "    .dataframe thead th {\n",
       "        text-align: right;\n",
       "    }\n",
       "</style>\n",
       "<table border=\"1\" class=\"dataframe\">\n",
       "  <thead>\n",
       "    <tr style=\"text-align: right;\">\n",
       "      <th></th>\n",
       "      <th>State</th>\n",
       "      <th>Sex</th>\n",
       "      <th>Age Group</th>\n",
       "      <th>COVID-19 Deaths</th>\n",
       "      <th>Total Deaths</th>\n",
       "      <th>Pneumonia Deaths</th>\n",
       "      <th>Pneumonia and COVID-19 Deaths</th>\n",
       "      <th>Influenza Deaths</th>\n",
       "      <th>Pneumonia, Influenza, or COVID-19 Deaths</th>\n",
       "    </tr>\n",
       "  </thead>\n",
       "  <tbody>\n",
       "    <tr>\n",
       "      <th>0</th>\n",
       "      <td>United States</td>\n",
       "      <td>All Sexes</td>\n",
       "      <td>All Ages</td>\n",
       "      <td>983409.0</td>\n",
       "      <td>7638997.0</td>\n",
       "      <td>865864.0</td>\n",
       "      <td>509298.0</td>\n",
       "      <td>10810.0</td>\n",
       "      <td>1349186.0</td>\n",
       "    </tr>\n",
       "    <tr>\n",
       "      <th>1</th>\n",
       "      <td>United States</td>\n",
       "      <td>All Sexes</td>\n",
       "      <td>Under 1 year</td>\n",
       "      <td>248.0</td>\n",
       "      <td>42516.0</td>\n",
       "      <td>524.0</td>\n",
       "      <td>31.0</td>\n",
       "      <td>28.0</td>\n",
       "      <td>768.0</td>\n",
       "    </tr>\n",
       "    <tr>\n",
       "      <th>3</th>\n",
       "      <td>United States</td>\n",
       "      <td>All Sexes</td>\n",
       "      <td>1-4 years</td>\n",
       "      <td>121.0</td>\n",
       "      <td>7931.0</td>\n",
       "      <td>306.0</td>\n",
       "      <td>30.0</td>\n",
       "      <td>70.0</td>\n",
       "      <td>467.0</td>\n",
       "    </tr>\n",
       "    <tr>\n",
       "      <th>4</th>\n",
       "      <td>United States</td>\n",
       "      <td>All Sexes</td>\n",
       "      <td>5-14 years</td>\n",
       "      <td>303.0</td>\n",
       "      <td>12627.0</td>\n",
       "      <td>439.0</td>\n",
       "      <td>98.0</td>\n",
       "      <td>84.0</td>\n",
       "      <td>727.0</td>\n",
       "    </tr>\n",
       "    <tr>\n",
       "      <th>5</th>\n",
       "      <td>United States</td>\n",
       "      <td>All Sexes</td>\n",
       "      <td>15-24 years</td>\n",
       "      <td>2592.0</td>\n",
       "      <td>81010.0</td>\n",
       "      <td>2260.0</td>\n",
       "      <td>1144.0</td>\n",
       "      <td>98.0</td>\n",
       "      <td>3798.0</td>\n",
       "    </tr>\n",
       "  </tbody>\n",
       "</table>\n",
       "</div>"
      ],
      "text/plain": [
       "           State        Sex     Age Group  COVID-19 Deaths  Total Deaths  \\\n",
       "0  United States  All Sexes      All Ages         983409.0     7638997.0   \n",
       "1  United States  All Sexes  Under 1 year            248.0       42516.0   \n",
       "3  United States  All Sexes     1-4 years            121.0        7931.0   \n",
       "4  United States  All Sexes    5-14 years            303.0       12627.0   \n",
       "5  United States  All Sexes   15-24 years           2592.0       81010.0   \n",
       "\n",
       "   Pneumonia Deaths  Pneumonia and COVID-19 Deaths  Influenza Deaths  \\\n",
       "0          865864.0                       509298.0           10810.0   \n",
       "1             524.0                           31.0              28.0   \n",
       "3             306.0                           30.0              70.0   \n",
       "4             439.0                           98.0              84.0   \n",
       "5            2260.0                         1144.0              98.0   \n",
       "\n",
       "   Pneumonia, Influenza, or COVID-19 Deaths  \n",
       "0                                 1349186.0  \n",
       "1                                     768.0  \n",
       "3                                     467.0  \n",
       "4                                     727.0  \n",
       "5                                    3798.0  "
      ]
     },
     "execution_count": 224,
     "metadata": {},
     "output_type": "execute_result"
    }
   ],
   "source": [
    "#This data frame shows deaths regardless of Year and Month\n",
    "#This data frame can be sorted by State, Sex, and Age Group\n",
    "#State: You can choose any of the 50 states, Puerto Rico, or the United States as a whole\n",
    "#Sex: Male, Female, All Sexes\n",
    "#Age Group:\n",
    "    #All ages\n",
    "    #Under 1 year\n",
    "    #1-4 years old\n",
    "    #5-14 years old\n",
    "    #15-24 years old\n",
    "    #25-34 years old\n",
    "    #35-44 years old\n",
    "    #45-54 years old\n",
    "    #55-64 years old\n",
    "    #65-74 years old\n",
    "    #75-84 years old\n",
    "    #85 years and over\n",
    "total_df = age_adjusted_df.loc[health_df[\"Group\"] == \"By Total\", :]\n",
    "total_df = total_df.drop(columns = [\"Year\", \"Month\", \"Group\"])\n",
    "total_df.head()"
   ]
  },
  {
   "cell_type": "code",
   "execution_count": 225,
   "id": "3889d718",
   "metadata": {},
   "outputs": [
    {
     "data": {
      "text/html": [
       "<div>\n",
       "<style scoped>\n",
       "    .dataframe tbody tr th:only-of-type {\n",
       "        vertical-align: middle;\n",
       "    }\n",
       "\n",
       "    .dataframe tbody tr th {\n",
       "        vertical-align: top;\n",
       "    }\n",
       "\n",
       "    .dataframe thead th {\n",
       "        text-align: right;\n",
       "    }\n",
       "</style>\n",
       "<table border=\"1\" class=\"dataframe\">\n",
       "  <thead>\n",
       "    <tr style=\"text-align: right;\">\n",
       "      <th></th>\n",
       "      <th>Year</th>\n",
       "      <th>State</th>\n",
       "      <th>Sex</th>\n",
       "      <th>Age Group</th>\n",
       "      <th>COVID-19 Deaths</th>\n",
       "      <th>Total Deaths</th>\n",
       "      <th>Pneumonia Deaths</th>\n",
       "      <th>Pneumonia and COVID-19 Deaths</th>\n",
       "      <th>Influenza Deaths</th>\n",
       "      <th>Pneumonia, Influenza, or COVID-19 Deaths</th>\n",
       "    </tr>\n",
       "  </thead>\n",
       "  <tbody>\n",
       "    <tr>\n",
       "      <th>2754</th>\n",
       "      <td>2020.0</td>\n",
       "      <td>United States</td>\n",
       "      <td>All Sexes</td>\n",
       "      <td>All Ages</td>\n",
       "      <td>385480.0</td>\n",
       "      <td>3389057.0</td>\n",
       "      <td>351879.0</td>\n",
       "      <td>179994.0</td>\n",
       "      <td>8785.0</td>\n",
       "      <td>564999.0</td>\n",
       "    </tr>\n",
       "    <tr>\n",
       "      <th>2755</th>\n",
       "      <td>2020.0</td>\n",
       "      <td>United States</td>\n",
       "      <td>All Sexes</td>\n",
       "      <td>Under 1 year</td>\n",
       "      <td>52.0</td>\n",
       "      <td>19608.0</td>\n",
       "      <td>241.0</td>\n",
       "      <td>9.0</td>\n",
       "      <td>21.0</td>\n",
       "      <td>305.0</td>\n",
       "    </tr>\n",
       "    <tr>\n",
       "      <th>2757</th>\n",
       "      <td>2020.0</td>\n",
       "      <td>United States</td>\n",
       "      <td>All Sexes</td>\n",
       "      <td>1-4 years</td>\n",
       "      <td>25.0</td>\n",
       "      <td>3527.0</td>\n",
       "      <td>132.0</td>\n",
       "      <td>4.0</td>\n",
       "      <td>61.0</td>\n",
       "      <td>214.0</td>\n",
       "    </tr>\n",
       "    <tr>\n",
       "      <th>2758</th>\n",
       "      <td>2020.0</td>\n",
       "      <td>United States</td>\n",
       "      <td>All Sexes</td>\n",
       "      <td>5-14 years</td>\n",
       "      <td>69.0</td>\n",
       "      <td>5639.0</td>\n",
       "      <td>172.0</td>\n",
       "      <td>12.0</td>\n",
       "      <td>76.0</td>\n",
       "      <td>305.0</td>\n",
       "    </tr>\n",
       "    <tr>\n",
       "      <th>2759</th>\n",
       "      <td>2020.0</td>\n",
       "      <td>United States</td>\n",
       "      <td>All Sexes</td>\n",
       "      <td>15-24 years</td>\n",
       "      <td>616.0</td>\n",
       "      <td>35961.0</td>\n",
       "      <td>773.0</td>\n",
       "      <td>223.0</td>\n",
       "      <td>80.0</td>\n",
       "      <td>1241.0</td>\n",
       "    </tr>\n",
       "    <tr>\n",
       "      <th>...</th>\n",
       "      <td>...</td>\n",
       "      <td>...</td>\n",
       "      <td>...</td>\n",
       "      <td>...</td>\n",
       "      <td>...</td>\n",
       "      <td>...</td>\n",
       "      <td>...</td>\n",
       "      <td>...</td>\n",
       "      <td>...</td>\n",
       "      <td>...</td>\n",
       "    </tr>\n",
       "    <tr>\n",
       "      <th>11010</th>\n",
       "      <td>2022.0</td>\n",
       "      <td>Puerto Rico</td>\n",
       "      <td>Female</td>\n",
       "      <td>45-54 years</td>\n",
       "      <td>0.0</td>\n",
       "      <td>0.0</td>\n",
       "      <td>0.0</td>\n",
       "      <td>0.0</td>\n",
       "      <td>0.0</td>\n",
       "      <td>0.0</td>\n",
       "    </tr>\n",
       "    <tr>\n",
       "      <th>11012</th>\n",
       "      <td>2022.0</td>\n",
       "      <td>Puerto Rico</td>\n",
       "      <td>Female</td>\n",
       "      <td>55-64 years</td>\n",
       "      <td>0.0</td>\n",
       "      <td>0.0</td>\n",
       "      <td>0.0</td>\n",
       "      <td>0.0</td>\n",
       "      <td>0.0</td>\n",
       "      <td>0.0</td>\n",
       "    </tr>\n",
       "    <tr>\n",
       "      <th>11013</th>\n",
       "      <td>2022.0</td>\n",
       "      <td>Puerto Rico</td>\n",
       "      <td>Female</td>\n",
       "      <td>65-74 years</td>\n",
       "      <td>0.0</td>\n",
       "      <td>0.0</td>\n",
       "      <td>0.0</td>\n",
       "      <td>0.0</td>\n",
       "      <td>0.0</td>\n",
       "      <td>0.0</td>\n",
       "    </tr>\n",
       "    <tr>\n",
       "      <th>11014</th>\n",
       "      <td>2022.0</td>\n",
       "      <td>Puerto Rico</td>\n",
       "      <td>Female</td>\n",
       "      <td>75-84 years</td>\n",
       "      <td>0.0</td>\n",
       "      <td>0.0</td>\n",
       "      <td>0.0</td>\n",
       "      <td>0.0</td>\n",
       "      <td>0.0</td>\n",
       "      <td>0.0</td>\n",
       "    </tr>\n",
       "    <tr>\n",
       "      <th>11015</th>\n",
       "      <td>2022.0</td>\n",
       "      <td>Puerto Rico</td>\n",
       "      <td>Female</td>\n",
       "      <td>85 years and over</td>\n",
       "      <td>0.0</td>\n",
       "      <td>0.0</td>\n",
       "      <td>0.0</td>\n",
       "      <td>0.0</td>\n",
       "      <td>0.0</td>\n",
       "      <td>0.0</td>\n",
       "    </tr>\n",
       "  </tbody>\n",
       "</table>\n",
       "<p>5832 rows × 10 columns</p>\n",
       "</div>"
      ],
      "text/plain": [
       "         Year          State        Sex          Age Group  COVID-19 Deaths  \\\n",
       "2754   2020.0  United States  All Sexes           All Ages         385480.0   \n",
       "2755   2020.0  United States  All Sexes       Under 1 year             52.0   \n",
       "2757   2020.0  United States  All Sexes          1-4 years             25.0   \n",
       "2758   2020.0  United States  All Sexes         5-14 years             69.0   \n",
       "2759   2020.0  United States  All Sexes        15-24 years            616.0   \n",
       "...       ...            ...        ...                ...              ...   \n",
       "11010  2022.0    Puerto Rico     Female        45-54 years              0.0   \n",
       "11012  2022.0    Puerto Rico     Female        55-64 years              0.0   \n",
       "11013  2022.0    Puerto Rico     Female        65-74 years              0.0   \n",
       "11014  2022.0    Puerto Rico     Female        75-84 years              0.0   \n",
       "11015  2022.0    Puerto Rico     Female  85 years and over              0.0   \n",
       "\n",
       "       Total Deaths  Pneumonia Deaths  Pneumonia and COVID-19 Deaths  \\\n",
       "2754      3389057.0          351879.0                       179994.0   \n",
       "2755        19608.0             241.0                            9.0   \n",
       "2757         3527.0             132.0                            4.0   \n",
       "2758         5639.0             172.0                           12.0   \n",
       "2759        35961.0             773.0                          223.0   \n",
       "...             ...               ...                            ...   \n",
       "11010           0.0               0.0                            0.0   \n",
       "11012           0.0               0.0                            0.0   \n",
       "11013           0.0               0.0                            0.0   \n",
       "11014           0.0               0.0                            0.0   \n",
       "11015           0.0               0.0                            0.0   \n",
       "\n",
       "       Influenza Deaths  Pneumonia, Influenza, or COVID-19 Deaths  \n",
       "2754             8785.0                                  564999.0  \n",
       "2755               21.0                                     305.0  \n",
       "2757               61.0                                     214.0  \n",
       "2758               76.0                                     305.0  \n",
       "2759               80.0                                    1241.0  \n",
       "...                 ...                                       ...  \n",
       "11010               0.0                                       0.0  \n",
       "11012               0.0                                       0.0  \n",
       "11013               0.0                                       0.0  \n",
       "11014               0.0                                       0.0  \n",
       "11015               0.0                                       0.0  \n",
       "\n",
       "[5832 rows x 10 columns]"
      ]
     },
     "execution_count": 225,
     "metadata": {},
     "output_type": "execute_result"
    }
   ],
   "source": [
    "#This data frame shows deaths by year, regardless of Month.\n",
    "#You can pick 2020, 2021, or 2022\n",
    "#This data frame can be sorted by State, Sex, and Age Group\n",
    "#State: You can choose any of the 50 states, Puerto Rico, or the United States as a whole\n",
    "#Sex: Male, Female, All Sexes\n",
    "#Age Group:\n",
    "    #All ages\n",
    "    #Under 1 year\n",
    "    #1-4 years old\n",
    "    #5-14 years old\n",
    "    #15-24 years old\n",
    "    #25-34 years old\n",
    "    #35-44 years old\n",
    "    #45-54 years old\n",
    "    #55-64 years old\n",
    "    #65-74 years old\n",
    "    #75-84 years old\n",
    "    #85 years and over\n",
    "year_df = age_adjusted_df.loc[health_df[\"Group\"] == \"By Year\", :]\n",
    "year_df = year_df.drop(columns = [\"Month\", \"Group\"])\n",
    "year_df"
   ]
  },
  {
   "cell_type": "code",
   "execution_count": 226,
   "id": "5a6d1bc4",
   "metadata": {},
   "outputs": [
    {
     "data": {
      "text/html": [
       "<div>\n",
       "<style scoped>\n",
       "    .dataframe tbody tr th:only-of-type {\n",
       "        vertical-align: middle;\n",
       "    }\n",
       "\n",
       "    .dataframe tbody tr th {\n",
       "        vertical-align: top;\n",
       "    }\n",
       "\n",
       "    .dataframe thead th {\n",
       "        text-align: right;\n",
       "    }\n",
       "</style>\n",
       "<table border=\"1\" class=\"dataframe\">\n",
       "  <thead>\n",
       "    <tr style=\"text-align: right;\">\n",
       "      <th></th>\n",
       "      <th>Year</th>\n",
       "      <th>Month</th>\n",
       "      <th>State</th>\n",
       "      <th>Sex</th>\n",
       "      <th>Age Group</th>\n",
       "      <th>COVID-19 Deaths</th>\n",
       "      <th>Total Deaths</th>\n",
       "      <th>Pneumonia Deaths</th>\n",
       "      <th>Pneumonia and COVID-19 Deaths</th>\n",
       "      <th>Influenza Deaths</th>\n",
       "      <th>Pneumonia, Influenza, or COVID-19 Deaths</th>\n",
       "    </tr>\n",
       "  </thead>\n",
       "  <tbody>\n",
       "    <tr>\n",
       "      <th>11016</th>\n",
       "      <td>2020.0</td>\n",
       "      <td>1.0</td>\n",
       "      <td>United States</td>\n",
       "      <td>All Sexes</td>\n",
       "      <td>All Ages</td>\n",
       "      <td>5.0</td>\n",
       "      <td>264658.0</td>\n",
       "      <td>17909.0</td>\n",
       "      <td>3.0</td>\n",
       "      <td>2125.0</td>\n",
       "      <td>20036.0</td>\n",
       "    </tr>\n",
       "    <tr>\n",
       "      <th>11017</th>\n",
       "      <td>2020.0</td>\n",
       "      <td>1.0</td>\n",
       "      <td>United States</td>\n",
       "      <td>All Sexes</td>\n",
       "      <td>Under 1 year</td>\n",
       "      <td>0.0</td>\n",
       "      <td>1781.0</td>\n",
       "      <td>41.0</td>\n",
       "      <td>0.0</td>\n",
       "      <td>8.0</td>\n",
       "      <td>49.0</td>\n",
       "    </tr>\n",
       "    <tr>\n",
       "      <th>11019</th>\n",
       "      <td>2020.0</td>\n",
       "      <td>1.0</td>\n",
       "      <td>United States</td>\n",
       "      <td>All Sexes</td>\n",
       "      <td>1-4 years</td>\n",
       "      <td>0.0</td>\n",
       "      <td>315.0</td>\n",
       "      <td>22.0</td>\n",
       "      <td>0.0</td>\n",
       "      <td>18.0</td>\n",
       "      <td>40.0</td>\n",
       "    </tr>\n",
       "    <tr>\n",
       "      <th>11020</th>\n",
       "      <td>2020.0</td>\n",
       "      <td>1.0</td>\n",
       "      <td>United States</td>\n",
       "      <td>All Sexes</td>\n",
       "      <td>5-14 years</td>\n",
       "      <td>0.0</td>\n",
       "      <td>471.0</td>\n",
       "      <td>21.0</td>\n",
       "      <td>0.0</td>\n",
       "      <td>29.0</td>\n",
       "      <td>50.0</td>\n",
       "    </tr>\n",
       "    <tr>\n",
       "      <th>11021</th>\n",
       "      <td>2020.0</td>\n",
       "      <td>1.0</td>\n",
       "      <td>United States</td>\n",
       "      <td>All Sexes</td>\n",
       "      <td>15-24 years</td>\n",
       "      <td>0.0</td>\n",
       "      <td>2596.0</td>\n",
       "      <td>57.0</td>\n",
       "      <td>0.0</td>\n",
       "      <td>28.0</td>\n",
       "      <td>85.0</td>\n",
       "    </tr>\n",
       "  </tbody>\n",
       "</table>\n",
       "</div>"
      ],
      "text/plain": [
       "         Year  Month          State        Sex     Age Group  COVID-19 Deaths  \\\n",
       "11016  2020.0    1.0  United States  All Sexes      All Ages              5.0   \n",
       "11017  2020.0    1.0  United States  All Sexes  Under 1 year              0.0   \n",
       "11019  2020.0    1.0  United States  All Sexes     1-4 years              0.0   \n",
       "11020  2020.0    1.0  United States  All Sexes    5-14 years              0.0   \n",
       "11021  2020.0    1.0  United States  All Sexes   15-24 years              0.0   \n",
       "\n",
       "       Total Deaths  Pneumonia Deaths  Pneumonia and COVID-19 Deaths  \\\n",
       "11016      264658.0           17909.0                            3.0   \n",
       "11017        1781.0              41.0                            0.0   \n",
       "11019         315.0              22.0                            0.0   \n",
       "11020         471.0              21.0                            0.0   \n",
       "11021        2596.0              57.0                            0.0   \n",
       "\n",
       "       Influenza Deaths  Pneumonia, Influenza, or COVID-19 Deaths  \n",
       "11016            2125.0                                   20036.0  \n",
       "11017               8.0                                      49.0  \n",
       "11019              18.0                                      40.0  \n",
       "11020              29.0                                      50.0  \n",
       "11021              28.0                                      85.0  "
      ]
     },
     "execution_count": 226,
     "metadata": {},
     "output_type": "execute_result"
    }
   ],
   "source": [
    "#This data frame shows deaths by Month.\n",
    "#You can pick any month numerically (ex. January = 1.0)\n",
    "#This data frame can be sorted by Year, State, Sex, and Age Group\n",
    "#Year: You can pick 2020, 2021, or 2022\n",
    "#State: You can choose any of the 50 states, Puerto Rico, or the United States as a whole\n",
    "#Sex: Male, Female, All Sexes\n",
    "#Age Group:\n",
    "    #All ages\n",
    "    #Under 1 year\n",
    "    #1-4 years old\n",
    "    #5-14 years old\n",
    "    #15-24 years old\n",
    "    #25-34 years old\n",
    "    #35-44 years old\n",
    "    #45-54 years old\n",
    "    #55-64 years old\n",
    "    #65-74 years old\n",
    "    #75-84 years old\n",
    "    #85 years and over\n",
    "month_df = age_adjusted_df.loc[health_df[\"Group\"] == \"By Month\", :]\n",
    "month_df = month_df.drop(columns = \"Group\")\n",
    "month_df.head()"
   ]
  },
  {
   "cell_type": "code",
   "execution_count": 227,
   "id": "ece13667",
   "metadata": {},
   "outputs": [
    {
     "name": "stdout",
     "output_type": "stream",
     "text": [
      "There are 5832 men in the dataframe.\n",
      "There are 5832 women in the dataframe.\n"
     ]
    }
   ],
   "source": [
    "men = year_df[\"Sex\"] == \"Men\"\n",
    "print(f\"There are {men.count()} men in the dataframe.\")\n",
    "      \n",
    "women = year_df[\"Sex\"] == \"Women\"\n",
    "print(f\"There are {women.count()} women in the dataframe.\")    "
   ]
  },
  {
   "cell_type": "code",
   "execution_count": 303,
   "id": "aa0a879b",
   "metadata": {},
   "outputs": [
    {
     "data": {
      "image/png": "[encoded data removed]",
      "text/plain": [
       "<Figure size 432x288 with 1 Axes>"
      ]
     },
     "metadata": {
      "needs_background": "light"
     },
     "output_type": "display_data"
    }
   ],
   "source": [
    "ax = sns.barplot(data = year_df, x=\"Year\", y = \"COVID-19 Deaths\", hue = \"Sex\", ci=None, palette=\"viridis\")\n",
    "plt.title(\"COVID-19 Deaths from 2019-2022\")\n",
    "ax.set_xticklabels([\"2020\", \"2021\", \"2022\"])\n",
    "plt.savefig(\"Resources/Images/COVIDdeathsYear&Gender.png\")\n",
    "plt.show()\n",
    "\n",
    "#This plot shows that more men have died from COVID than women because\n",
    "#the above line of code states there are an equal number of men and women in the dataframe.\n",
    "#The most people died in 2021, but it was the only time we have an entire year's data."
   ]
  },
  {
   "cell_type": "code",
   "execution_count": 302,
   "id": "0a4638c3",
   "metadata": {},
   "outputs": [
    {
     "data": {
      "image/png": "[encoded data removed]",
      "text/plain": [
       "<Figure size 576x432 with 1 Axes>"
      ]
     },
     "metadata": {
      "needs_background": "light"
     },
     "output_type": "display_data"
    }
   ],
   "source": [
    "#The most COVID deaths occurred in Dec 2020 and Jan 2021. \n",
    "#From Feb - Jun 2021, there was a steady decline as vaccines became available.\n",
    "\n",
    "months = [\"Jan\", \"Feb\", \"Mar\", \"Apr\", \"May\", \"Jun\", \"Jul\", \"Aug\", \"Sep\", \"Oct\", \"Nov\", \"Dec\"]\n",
    "\n",
    "f, ax = plt.subplots(figsize = (8,6))\n",
    "ax = sns.barplot(data = month_df, x=\"Month\", y = \"COVID-19 Deaths\", \n",
    "                 hue = \"Year\", ci=None, palette=\"rocket\")\n",
    "ax.set_xticklabels(months)\n",
    "ax.set_title(\"COVID-19 Deaths from 2020-2022 by Month\")\n",
    "plt.legend(loc=\"upper center\")\n",
    "plt.savefig(\"Resources/Images/COVIDdeathsbyMonth.png\")\n",
    "plt.show()"
   ]
  },
  {
   "cell_type": "code",
   "execution_count": 230,
   "id": "6e32a9a8",
   "metadata": {},
   "outputs": [
    {
     "data": {
      "text/html": [
       "<div>\n",
       "<style scoped>\n",
       "    .dataframe tbody tr th:only-of-type {\n",
       "        vertical-align: middle;\n",
       "    }\n",
       "\n",
       "    .dataframe tbody tr th {\n",
       "        vertical-align: top;\n",
       "    }\n",
       "\n",
       "    .dataframe thead th {\n",
       "        text-align: right;\n",
       "    }\n",
       "</style>\n",
       "<table border=\"1\" class=\"dataframe\">\n",
       "  <thead>\n",
       "    <tr style=\"text-align: right;\">\n",
       "      <th></th>\n",
       "      <th>Year</th>\n",
       "      <th>COVID-19 Deaths</th>\n",
       "    </tr>\n",
       "    <tr>\n",
       "      <th>Month</th>\n",
       "      <th></th>\n",
       "      <th></th>\n",
       "    </tr>\n",
       "  </thead>\n",
       "  <tbody>\n",
       "    <tr>\n",
       "      <th>1.0</th>\n",
       "      <td>2020.0</td>\n",
       "      <td>5.0</td>\n",
       "    </tr>\n",
       "    <tr>\n",
       "      <th>1.0</th>\n",
       "      <td>2020.0</td>\n",
       "      <td>0.0</td>\n",
       "    </tr>\n",
       "    <tr>\n",
       "      <th>1.0</th>\n",
       "      <td>2020.0</td>\n",
       "      <td>0.0</td>\n",
       "    </tr>\n",
       "    <tr>\n",
       "      <th>1.0</th>\n",
       "      <td>2020.0</td>\n",
       "      <td>0.0</td>\n",
       "    </tr>\n",
       "    <tr>\n",
       "      <th>1.0</th>\n",
       "      <td>2020.0</td>\n",
       "      <td>0.0</td>\n",
       "    </tr>\n",
       "    <tr>\n",
       "      <th>...</th>\n",
       "      <td>...</td>\n",
       "      <td>...</td>\n",
       "    </tr>\n",
       "    <tr>\n",
       "      <th>4.0</th>\n",
       "      <td>2022.0</td>\n",
       "      <td>0.0</td>\n",
       "    </tr>\n",
       "    <tr>\n",
       "      <th>4.0</th>\n",
       "      <td>2022.0</td>\n",
       "      <td>0.0</td>\n",
       "    </tr>\n",
       "    <tr>\n",
       "      <th>4.0</th>\n",
       "      <td>2022.0</td>\n",
       "      <td>0.0</td>\n",
       "    </tr>\n",
       "    <tr>\n",
       "      <th>4.0</th>\n",
       "      <td>2022.0</td>\n",
       "      <td>0.0</td>\n",
       "    </tr>\n",
       "    <tr>\n",
       "      <th>4.0</th>\n",
       "      <td>2022.0</td>\n",
       "      <td>0.0</td>\n",
       "    </tr>\n",
       "  </tbody>\n",
       "</table>\n",
       "<p>54432 rows × 2 columns</p>\n",
       "</div>"
      ],
      "text/plain": [
       "         Year  COVID-19 Deaths\n",
       "Month                         \n",
       "1.0    2020.0              5.0\n",
       "1.0    2020.0              0.0\n",
       "1.0    2020.0              0.0\n",
       "1.0    2020.0              0.0\n",
       "1.0    2020.0              0.0\n",
       "...       ...              ...\n",
       "4.0    2022.0              0.0\n",
       "4.0    2022.0              0.0\n",
       "4.0    2022.0              0.0\n",
       "4.0    2022.0              0.0\n",
       "4.0    2022.0              0.0\n",
       "\n",
       "[54432 rows x 2 columns]"
      ]
     },
     "execution_count": 230,
     "metadata": {},
     "output_type": "execute_result"
    }
   ],
   "source": [
    "covid_death_by_month = month_df.loc[:, [\"Year\", \"Month\", \"COVID-19 Deaths\"]]\n",
    "\n",
    "covid_death_by_month = covid_death_by_month.set_index(\"Month\")\n",
    "covid_death_by_month\n"
   ]
  },
  {
   "cell_type": "code",
   "execution_count": 231,
   "id": "930933bd",
   "metadata": {},
   "outputs": [
    {
     "data": {
      "text/html": [
       "<div>\n",
       "<style scoped>\n",
       "    .dataframe tbody tr th:only-of-type {\n",
       "        vertical-align: middle;\n",
       "    }\n",
       "\n",
       "    .dataframe tbody tr th {\n",
       "        vertical-align: top;\n",
       "    }\n",
       "\n",
       "    .dataframe thead th {\n",
       "        text-align: right;\n",
       "    }\n",
       "</style>\n",
       "<table border=\"1\" class=\"dataframe\">\n",
       "  <thead>\n",
       "    <tr style=\"text-align: right;\">\n",
       "      <th></th>\n",
       "      <th>COVID-19 Deaths</th>\n",
       "    </tr>\n",
       "    <tr>\n",
       "      <th>Year</th>\n",
       "      <th></th>\n",
       "    </tr>\n",
       "  </thead>\n",
       "  <tbody>\n",
       "    <tr>\n",
       "      <th>2020.0</th>\n",
       "      <td>3074824.0</td>\n",
       "    </tr>\n",
       "    <tr>\n",
       "      <th>2021.0</th>\n",
       "      <td>3681456.0</td>\n",
       "    </tr>\n",
       "    <tr>\n",
       "      <th>2022.0</th>\n",
       "      <td>1084186.0</td>\n",
       "    </tr>\n",
       "  </tbody>\n",
       "</table>\n",
       "</div>"
      ],
      "text/plain": [
       "        COVID-19 Deaths\n",
       "Year                   \n",
       "2020.0        3074824.0\n",
       "2021.0        3681456.0\n",
       "2022.0        1084186.0"
      ]
     },
     "execution_count": 231,
     "metadata": {},
     "output_type": "execute_result"
    }
   ],
   "source": [
    "covid_death_by_year = month_df.loc[:, [\"Year\", \"COVID-19 Deaths\"]]\n",
    "covid_death_by_year = covid_death_by_year.groupby(\"Year\").sum()\n",
    "covid_death_by_year"
   ]
  },
  {
   "cell_type": "code",
   "execution_count": 301,
   "id": "718e6942",
   "metadata": {},
   "outputs": [
    {
     "data": {
      "image/png": "[encoded data removed]",
      "text/plain": [
       "<Figure size 432x288 with 1 Axes>"
      ]
     },
     "metadata": {
      "needs_background": "light"
     },
     "output_type": "display_data"
    }
   ],
   "source": [
    "covid_death_by_year.plot(kind = \"bar\", rot=0, color = \"salmon\")\n",
    "plt.ylabel(\"Number of Deaths (Million)\")\n",
    "plt.title(\"Number of COVID-19 Deaths from 2020-2022\")\n",
    "plt.savefig(\"Resources/Images/COVIDdeaths.png\")\n",
    "plt.show()"
   ]
  },
  {
   "cell_type": "code",
   "execution_count": 233,
   "id": "c591d235",
   "metadata": {},
   "outputs": [
    {
     "data": {
      "text/html": [
       "<div>\n",
       "<style scoped>\n",
       "    .dataframe tbody tr th:only-of-type {\n",
       "        vertical-align: middle;\n",
       "    }\n",
       "\n",
       "    .dataframe tbody tr th {\n",
       "        vertical-align: top;\n",
       "    }\n",
       "\n",
       "    .dataframe thead th {\n",
       "        text-align: right;\n",
       "    }\n",
       "</style>\n",
       "<table border=\"1\" class=\"dataframe\">\n",
       "  <thead>\n",
       "    <tr style=\"text-align: right;\">\n",
       "      <th></th>\n",
       "      <th>Influenza Deaths</th>\n",
       "    </tr>\n",
       "    <tr>\n",
       "      <th>Year</th>\n",
       "      <th></th>\n",
       "    </tr>\n",
       "  </thead>\n",
       "  <tbody>\n",
       "    <tr>\n",
       "      <th>2020.0</th>\n",
       "      <td>59301.0</td>\n",
       "    </tr>\n",
       "    <tr>\n",
       "      <th>2021.0</th>\n",
       "      <td>4835.0</td>\n",
       "    </tr>\n",
       "    <tr>\n",
       "      <th>2022.0</th>\n",
       "      <td>4649.0</td>\n",
       "    </tr>\n",
       "  </tbody>\n",
       "</table>\n",
       "</div>"
      ],
      "text/plain": [
       "        Influenza Deaths\n",
       "Year                    \n",
       "2020.0           59301.0\n",
       "2021.0            4835.0\n",
       "2022.0            4649.0"
      ]
     },
     "execution_count": 233,
     "metadata": {},
     "output_type": "execute_result"
    }
   ],
   "source": [
    "flu_death_by_year = month_df.loc[:, [\"Year\", \"Influenza Deaths\"]]\n",
    "flu_death_by_year = flu_death_by_year.groupby(\"Year\").sum()\n",
    "flu_death_by_year"
   ]
  },
  {
   "cell_type": "code",
   "execution_count": 300,
   "id": "4a2230f1",
   "metadata": {},
   "outputs": [
    {
     "data": {
      "image/png": "[encoded data removed]",
      "text/plain": [
       "<Figure size 432x288 with 1 Axes>"
      ]
     },
     "metadata": {
      "needs_background": "light"
     },
     "output_type": "display_data"
    }
   ],
   "source": [
    "flu_death_by_year.plot(kind = \"bar\", rot=0, color = \"salmon\")\n",
    "plt.ylabel(\"Number of deaths\")\n",
    "plt.title(\"Number of Flu Deaths from 2020-2022\")\n",
    "plt.savefig(\"Resources/Images/Fludeaths.png\")\n",
    "plt.show()"
   ]
  },
  {
   "cell_type": "code",
   "execution_count": 290,
   "id": "bd0c2b09",
   "metadata": {},
   "outputs": [
    {
     "data": {
      "text/html": [
       "<div>\n",
       "<style scoped>\n",
       "    .dataframe tbody tr th:only-of-type {\n",
       "        vertical-align: middle;\n",
       "    }\n",
       "\n",
       "    .dataframe tbody tr th {\n",
       "        vertical-align: top;\n",
       "    }\n",
       "\n",
       "    .dataframe thead th {\n",
       "        text-align: right;\n",
       "    }\n",
       "</style>\n",
       "<table border=\"1\" class=\"dataframe\">\n",
       "  <thead>\n",
       "    <tr style=\"text-align: right;\">\n",
       "      <th></th>\n",
       "      <th>Pneumonia Deaths</th>\n",
       "    </tr>\n",
       "    <tr>\n",
       "      <th>Year</th>\n",
       "      <th></th>\n",
       "    </tr>\n",
       "  </thead>\n",
       "  <tbody>\n",
       "    <tr>\n",
       "      <th>2020.0</th>\n",
       "      <td>2812549.0</td>\n",
       "    </tr>\n",
       "    <tr>\n",
       "      <th>2021.0</th>\n",
       "      <td>3284795.0</td>\n",
       "    </tr>\n",
       "    <tr>\n",
       "      <th>2022.0</th>\n",
       "      <td>819891.0</td>\n",
       "    </tr>\n",
       "  </tbody>\n",
       "</table>\n",
       "</div>"
      ],
      "text/plain": [
       "        Pneumonia Deaths\n",
       "Year                    \n",
       "2020.0         2812549.0\n",
       "2021.0         3284795.0\n",
       "2022.0          819891.0"
      ]
     },
     "execution_count": 290,
     "metadata": {},
     "output_type": "execute_result"
    }
   ],
   "source": [
    "pna_death_by_year = month_df.loc[:, [\"Year\", \"Pneumonia Deaths\"]]\n",
    "pna_death_by_year = pna_death_by_year.groupby(\"Year\").sum()\n",
    "pna_death_by_year"
   ]
  },
  {
   "cell_type": "code",
   "execution_count": 299,
   "id": "8a3ee585",
   "metadata": {},
   "outputs": [
    {
     "data": {
      "image/png": "[encoded data removed]",
      "text/plain": [
       "<Figure size 432x288 with 1 Axes>"
      ]
     },
     "metadata": {
      "needs_background": "light"
     },
     "output_type": "display_data"
    }
   ],
   "source": [
    "pna_death_by_year.plot(kind = \"bar\", rot=0, color = \"salmon\")\n",
    "plt.ylabel(\"Number of deaths (Million)\")\n",
    "plt.title(\"Number of Pneumonia Deaths from 2020-2022\")\n",
    "plt.savefig(\"Resources/Images/PNAdeaths.png\")\n",
    "plt.show()"
   ]
  },
  {
   "cell_type": "code",
   "execution_count": null,
   "id": "e1afe6e1",
   "metadata": {},
   "outputs": [],
   "source": []
  },
  {
   "cell_type": "code",
   "execution_count": 298,
   "id": "fb516a93",
   "metadata": {
    "scrolled": true
   },
   "outputs": [
    {
     "data": {
      "image/png": "[encoded data removed]",
      "text/plain": [
       "<Figure size 720x720 with 1 Axes>"
      ]
     },
     "metadata": {
      "needs_background": "light"
     },
     "output_type": "display_data"
    }
   ],
   "source": [
    "f, ax = plt.subplots(figsize = (10, 10))\n",
    "states_df = year_df.loc[(health_df[\"State\"] != \"United States\"), :]\n",
    "states_df = states_df.groupby([\"State\"])[\"COVID-19 Deaths\"].sum()\n",
    "states_df.plot(kind=\"barh\")\n",
    "plt.title(\"Total COVID-19 Deaths by State\")\n",
    "plt.xlabel(\"Number of COVID-19 Deaths\")\n",
    "plt.savefig(\"Resources/Images/COVIDdeathbyState.png\")\n",
    "plt.show()"
   ]
  },
  {
   "cell_type": "code",
   "execution_count": null,
   "id": "011d051b",
   "metadata": {},
   "outputs": [],
   "source": [
    "state = year_df[\"State\"].unique()\n",
    "year = year_df[\"Age Group\"].unique()"
   ]
  },
  {
   "cell_type": "code",
   "execution_count": 304,
   "id": "e69a2160",
   "metadata": {},
   "outputs": [
    {
     "data": {
      "image/png": "[encoded data removed]",
      "text/plain": [
       "<Figure size 432x288 with 2 Axes>"
      ]
     },
     "metadata": {
      "needs_background": "light"
     },
     "output_type": "display_data"
    }
   ],
   "source": [
    "#Covid vs PNA deaths\n",
    "plt.scatter(year_df['COVID-19 Deaths'],year_df['Pneumonia Deaths'], c=year_df['Year'])\n",
    "clb = plt.colorbar()\n",
    "plt.xlabel(\"COVID-19 Deaths\")\n",
    "plt.ylabel(\"Pneumonia Deaths\")\n",
    "plt.title(\"COVID vs. Pneumonia Deaths from 2020-2022\")\n",
    "clb.set_label(\"Year\")\n",
    "plt.savefig(\"Resources/Images/ScatterPNAvsCOVID.png\")\n",
    "plt.show()\n"
   ]
  },
  {
   "cell_type": "code",
   "execution_count": 305,
   "id": "fdf3e621",
   "metadata": {},
   "outputs": [
    {
     "data": {
      "image/png": "[encoded data removed]",
      "text/plain": [
       "<Figure size 432x288 with 2 Axes>"
      ]
     },
     "metadata": {
      "needs_background": "light"
     },
     "output_type": "display_data"
    }
   ],
   "source": [
    "#Covid vs flu deaths\n",
    "plt.scatter(year_df['COVID-19 Deaths'],year_df['Influenza Deaths'], c=year_df['Year'])\n",
    "clb = plt.colorbar()\n",
    "plt.xlabel(\"COVID-19 Deaths\")\n",
    "plt.ylabel(\"Influenza Deaths\")\n",
    "plt.title(\"COVID vs. Influenza Deaths from 2020-2022\")\n",
    "clb.set_label(\"Year\")\n",
    "plt.savefig(\"Resources/Images/ScatterFluvsCOVID.png\")\n",
    "plt.show()"
   ]
  },
  {
   "cell_type": "code",
   "execution_count": 306,
   "id": "613dadfb",
   "metadata": {},
   "outputs": [
    {
     "data": {
      "image/png": "[encoded data removed]",
      "text/plain": [
       "<Figure size 432x288 with 2 Axes>"
      ]
     },
     "metadata": {
      "needs_background": "light"
     },
     "output_type": "display_data"
    }
   ],
   "source": [
    "#Covid vs Total deaths\n",
    "plt.scatter(year_df['COVID-19 Deaths'],year_df['Total Deaths'], c=year_df['Year'])\n",
    "clb = plt.colorbar()\n",
    "plt.xlabel(\"COVID-19 Deaths\")\n",
    "plt.ylabel(\"Total Deaths (Millions)\")\n",
    "plt.title(\"COVID vs. Total Deaths from 2020-2022\")\n",
    "clb.set_label(\"Year\")\n",
    "plt.savefig(\"Resources/Images/ScatterTotalvsCOVID.png\")\n",
    "plt.show()"
   ]
  },
  {
   "cell_type": "code",
   "execution_count": 236,
   "id": "ddc4efdd",
   "metadata": {},
   "outputs": [
    {
     "data": {
      "image/png": "[encoded data removed]",
      "text/plain": [
       "<Figure size 432x288 with 2 Axes>"
      ]
     },
     "metadata": {
      "needs_background": "light"
     },
     "output_type": "display_data"
    }
   ],
   "source": [
    "states_df = pd.DataFrame(states_df)\n",
    "ax = sns.heatmap(states_df, linewidth=0.5,square=True)\n",
    "plt.show()"
   ]
  },
  {
   "cell_type": "code",
   "execution_count": 238,
   "id": "b27946da",
   "metadata": {},
   "outputs": [],
   "source": [
    "\n",
    "# # states = states_df[\"State\"]\n",
    "# covid_deaths_state = states_df[\"COVID-19 Deaths\"]\n",
    "# covid_deaths_state = pd.DataFrame(covid_deaths_state)\n",
    "# covid_deaths_state\n",
    "# states_df.plot(kind=\"scatter\")"
   ]
  },
  {
   "cell_type": "code",
   "execution_count": 283,
   "id": "08d2b34d",
   "metadata": {},
   "outputs": [
    {
     "data": {
      "text/html": [
       "<div>\n",
       "<style scoped>\n",
       "    .dataframe tbody tr th:only-of-type {\n",
       "        vertical-align: middle;\n",
       "    }\n",
       "\n",
       "    .dataframe tbody tr th {\n",
       "        vertical-align: top;\n",
       "    }\n",
       "\n",
       "    .dataframe thead th {\n",
       "        text-align: right;\n",
       "    }\n",
       "</style>\n",
       "<table border=\"1\" class=\"dataframe\">\n",
       "  <thead>\n",
       "    <tr style=\"text-align: right;\">\n",
       "      <th></th>\n",
       "      <th>COVID-19 Deaths</th>\n",
       "      <th>Total Deaths</th>\n",
       "      <th>Pneumonia Deaths</th>\n",
       "      <th>Pneumonia and COVID-19 Deaths</th>\n",
       "      <th>Influenza Deaths</th>\n",
       "      <th>Pneumonia, Influenza, or COVID-19 Deaths</th>\n",
       "    </tr>\n",
       "  </thead>\n",
       "  <tbody>\n",
       "    <tr>\n",
       "      <th>count</th>\n",
       "      <td>1582.000000</td>\n",
       "      <td>1.926000e+03</td>\n",
       "      <td>1536.000000</td>\n",
       "      <td>1665.000000</td>\n",
       "      <td>1146.000000</td>\n",
       "      <td>1.606000e+03</td>\n",
       "    </tr>\n",
       "    <tr>\n",
       "      <th>mean</th>\n",
       "      <td>4980.507585</td>\n",
       "      <td>3.186561e+04</td>\n",
       "      <td>4531.887370</td>\n",
       "      <td>2452.257658</td>\n",
       "      <td>73.716405</td>\n",
       "      <td>6.744638e+03</td>\n",
       "    </tr>\n",
       "    <tr>\n",
       "      <th>std</th>\n",
       "      <td>33744.826981</td>\n",
       "      <td>2.367573e+05</td>\n",
       "      <td>30241.499805</td>\n",
       "      <td>17099.926641</td>\n",
       "      <td>427.946071</td>\n",
       "      <td>4.600855e+04</td>\n",
       "    </tr>\n",
       "    <tr>\n",
       "      <th>min</th>\n",
       "      <td>0.000000</td>\n",
       "      <td>1.000000e+01</td>\n",
       "      <td>0.000000</td>\n",
       "      <td>0.000000</td>\n",
       "      <td>0.000000</td>\n",
       "      <td>0.000000e+00</td>\n",
       "    </tr>\n",
       "    <tr>\n",
       "      <th>25%</th>\n",
       "      <td>69.000000</td>\n",
       "      <td>4.000000e+02</td>\n",
       "      <td>76.000000</td>\n",
       "      <td>18.000000</td>\n",
       "      <td>0.000000</td>\n",
       "      <td>8.725000e+01</td>\n",
       "    </tr>\n",
       "    <tr>\n",
       "      <th>50%</th>\n",
       "      <td>490.500000</td>\n",
       "      <td>2.798000e+03</td>\n",
       "      <td>478.500000</td>\n",
       "      <td>215.000000</td>\n",
       "      <td>15.000000</td>\n",
       "      <td>6.475000e+02</td>\n",
       "    </tr>\n",
       "    <tr>\n",
       "      <th>75%</th>\n",
       "      <td>2444.000000</td>\n",
       "      <td>1.461800e+04</td>\n",
       "      <td>2203.250000</td>\n",
       "      <td>1106.000000</td>\n",
       "      <td>41.000000</td>\n",
       "      <td>3.302750e+03</td>\n",
       "    </tr>\n",
       "    <tr>\n",
       "      <th>max</th>\n",
       "      <td>983409.000000</td>\n",
       "      <td>7.638997e+06</td>\n",
       "      <td>865864.000000</td>\n",
       "      <td>509298.000000</td>\n",
       "      <td>10810.000000</td>\n",
       "      <td>1.349186e+06</td>\n",
       "    </tr>\n",
       "  </tbody>\n",
       "</table>\n",
       "</div>"
      ],
      "text/plain": [
       "       COVID-19 Deaths  Total Deaths  Pneumonia Deaths  \\\n",
       "count      1582.000000  1.926000e+03       1536.000000   \n",
       "mean       4980.507585  3.186561e+04       4531.887370   \n",
       "std       33744.826981  2.367573e+05      30241.499805   \n",
       "min           0.000000  1.000000e+01          0.000000   \n",
       "25%          69.000000  4.000000e+02         76.000000   \n",
       "50%         490.500000  2.798000e+03        478.500000   \n",
       "75%        2444.000000  1.461800e+04       2203.250000   \n",
       "max      983409.000000  7.638997e+06     865864.000000   \n",
       "\n",
       "       Pneumonia and COVID-19 Deaths  Influenza Deaths  \\\n",
       "count                    1665.000000       1146.000000   \n",
       "mean                     2452.257658         73.716405   \n",
       "std                     17099.926641        427.946071   \n",
       "min                         0.000000          0.000000   \n",
       "25%                        18.000000          0.000000   \n",
       "50%                       215.000000         15.000000   \n",
       "75%                      1106.000000         41.000000   \n",
       "max                    509298.000000      10810.000000   \n",
       "\n",
       "       Pneumonia, Influenza, or COVID-19 Deaths  \n",
       "count                              1.606000e+03  \n",
       "mean                               6.744638e+03  \n",
       "std                                4.600855e+04  \n",
       "min                                0.000000e+00  \n",
       "25%                                8.725000e+01  \n",
       "50%                                6.475000e+02  \n",
       "75%                                3.302750e+03  \n",
       "max                                1.349186e+06  "
      ]
     },
     "execution_count": 283,
     "metadata": {},
     "output_type": "execute_result"
    }
   ],
   "source": [
    "total_df.describe()"
   ]
  },
  {
   "cell_type": "code",
   "execution_count": 348,
   "id": "461150db",
   "metadata": {},
   "outputs": [
    {
     "name": "stdout",
     "output_type": "stream",
     "text": [
      "The SEM value for the sample COVID-19 Deaths is 50.03146676970558\n"
     ]
    },
    {
     "data": {
      "image/png": "[encoded data removed]",
      "text/plain": [
       "<Figure size 432x288 with 1 Axes>"
      ]
     },
     "metadata": {
      "needs_background": "light"
     },
     "output_type": "display_data"
    },
    {
     "data": {
      "text/plain": [
       "<Figure size 432x288 with 0 Axes>"
      ]
     },
     "metadata": {},
     "output_type": "display_data"
    }
   ],
   "source": [
    "new_month_df = month_df.dropna()\n",
    "subset = new_month_df.sample(3000, random_state = 42)\n",
    "\n",
    "print(f\"The SEM value for the sample COVID-19 Deaths is {sem(sample['COVID-19 Deaths'])}\")\n",
    "\n",
    "# Create a sample set of 35, each with 3000 data points\n",
    "covid_sample_set = [new_month_df.sample(3000) for x in range(0,35)]\n",
    "means = [sample['COVID-19 Deaths'].mean() for sample in covid_sample_set]\n",
    "standard_errors = [sem(sample['COVID-19 Deaths']) for sample in covid_sample_set]\n",
    "x_axis = np.arange(0, len(covid_sample_set), 1) + 1\n",
    "\n",
    "fig, ax = plt.subplots()\n",
    "ax.errorbar(x_axis, means, standard_errors, fmt=\"o\")\n",
    "ax.set_xlim(0, len(covid_sample_set) + 1)\n",
    "\n",
    "ax.set_xlabel(\"Sample Number\")\n",
    "ax.set_ylabel(\"Mean COVID-19 Deaths\")\n",
    "plt.show()\n",
    "plt.savefig(\"Resources/Images/SEMCOVID.png\")"
   ]
  },
  {
   "cell_type": "code",
   "execution_count": 349,
   "id": "0982a16d",
   "metadata": {},
   "outputs": [
    {
     "name": "stdout",
     "output_type": "stream",
     "text": [
      "The SEM value for the sample Pneumonia Deaths is 37.03055216296125\n"
     ]
    },
    {
     "data": {
      "image/png": "[encoded data removed]",
      "text/plain": [
       "<Figure size 432x288 with 1 Axes>"
      ]
     },
     "metadata": {
      "needs_background": "light"
     },
     "output_type": "display_data"
    }
   ],
   "source": [
    "new_month_df = month_df.dropna()\n",
    "subset = new_month_df.sample(3000, random_state = 42)\n",
    "\n",
    "print(f\"The SEM value for the sample Pneumonia Deaths is {sem(sample['Pneumonia Deaths'])}\")\n",
    "\n",
    "# Create a sample set of 35, each with 3000 data points\n",
    "covid_sample_set = [new_month_df.sample(3000) for x in range(0,35)]\n",
    "means = [sample['Pneumonia Deaths'].mean() for sample in covid_sample_set]\n",
    "standard_errors = [sem(sample['Pneumonia Deaths']) for sample in covid_sample_set]\n",
    "x_axis = np.arange(0, len(covid_sample_set), 1) + 1\n",
    "\n",
    "fig, ax = plt.subplots()\n",
    "ax.errorbar(x_axis, means, standard_errors, fmt=\"o\")\n",
    "ax.set_xlim(0, len(covid_sample_set) + 1)\n",
    "\n",
    "ax.set_xlabel(\"Sample Number\")\n",
    "ax.set_ylabel(\"Mean Pneumonia Deaths\")\n",
    "plt.savefig(\"Resources/Images/SEMPNA.png\")\n",
    "plt.show()"
   ]
  },
  {
   "cell_type": "code",
   "execution_count": 350,
   "id": "907d701c",
   "metadata": {},
   "outputs": [
    {
     "name": "stdout",
     "output_type": "stream",
     "text": [
      "The SEM value for the sample Influenza Deaths is 0.3156654450908558\n"
     ]
    },
    {
     "data": {
      "image/png": "[encoded data removed]",
      "text/plain": [
       "<Figure size 432x288 with 1 Axes>"
      ]
     },
     "metadata": {
      "needs_background": "light"
     },
     "output_type": "display_data"
    }
   ],
   "source": [
    "new_month_df = month_df.dropna()\n",
    "subset = new_month_df.sample(3000, random_state = 42)\n",
    "\n",
    "print(f\"The SEM value for the sample Influenza Deaths is {sem(sample['Influenza Deaths'])}\")\n",
    "\n",
    "# Create a sample set of 35, each with 3000 data points\n",
    "covid_sample_set = [new_month_df.sample(3000) for x in range(0,35)]\n",
    "means = [sample['Influenza Deaths'].mean() for sample in covid_sample_set]\n",
    "standard_errors = [sem(sample['Influenza Deaths']) for sample in covid_sample_set]\n",
    "x_axis = np.arange(0, len(covid_sample_set), 1) + 1\n",
    "\n",
    "fig, ax = plt.subplots()\n",
    "ax.errorbar(x_axis, means, standard_errors, fmt=\"o\")\n",
    "ax.set_xlim(0, len(covid_sample_set) + 1)\n",
    "\n",
    "ax.set_xlabel(\"Sample Number\")\n",
    "ax.set_ylabel(\"Mean Pneumonia Deaths\")\n",
    "plt.savefig(\"Resources/Images/SEMFlu.png\")\n",
    "plt.show()"
   ]
  },
  {
   "cell_type": "code",
   "execution_count": 241,
   "id": "32abaf88",
   "metadata": {},
   "outputs": [
    {
     "data": {
      "image/png": "[encoded data removed]",
      "text/plain": [
       "<Figure size 1440x1440 with 1 Axes>"
      ]
     },
     "metadata": {
      "needs_background": "light"
     },
     "output_type": "display_data"
    }
   ],
   "source": [
    "# data = [states, covid_deaths_state]\n",
    "fig, ax = plt.subplots(figsize = (20,20))\n",
    "plt.imshow(states_df, cmap='tab20_r', interpolation='nearest')\n",
    "plt.show()"
   ]
  }
 ],
 "metadata": {
  "kernelspec": {
   "display_name": "Python [conda env:PythonData38] *",
   "language": "python",
   "name": "conda-env-PythonData38-py"
  },
  "language_info": {
   "codemirror_mode": {
    "name": "ipython",
    "version": 3
   },
   "file_extension": ".py",
   "mimetype": "text/x-python",
   "name": "python",
   "nbconvert_exporter": "python",
   "pygments_lexer": "ipython3",
   "version": "3.8.12"
  }
 },
 "nbformat": 4,
 "nbformat_minor": 5
}
