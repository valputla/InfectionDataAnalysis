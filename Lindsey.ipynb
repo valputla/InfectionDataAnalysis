{
 "cells": [
  {
   "cell_type": "code",
   "execution_count": null,
   "id": "3c9b489a",
   "metadata": {},
   "outputs": [],
   "source": []
  },
  {
   "cell_type": "code",
   "execution_count": null,
   "id": "145e75fb",
   "metadata": {},
   "outputs": [],
   "source": []
  },
  {
   "cell_type": "code",
   "execution_count": null,
   "id": "779e0d62",
   "metadata": {},
   "outputs": [],
   "source": []
  },
  {
   "cell_type": "code",
   "execution_count": null,
   "id": "2aa45a94",
   "metadata": {},
   "outputs": [],
   "source": []
  },
  {
   "cell_type": "code",
   "execution_count": null,
   "id": "3889d718",
   "metadata": {},
   "outputs": [],
   "source": []
  },
  {
   "cell_type": "code",
   "execution_count": null,
   "id": "f39cac03",
   "metadata": {},
   "outputs": [],
   "source": []
  },
  {
   "cell_type": "code",
   "execution_count": null,
   "id": "5a6d1bc4",
   "metadata": {},
   "outputs": [],
   "source": []
  },
  {
   "cell_type": "code",
   "execution_count": null,
   "id": "ece13667",
   "metadata": {},
   "outputs": [],
   "source": []
  },
  {
   "cell_type": "code",
   "execution_count": null,
   "id": "bc7b13e5",
   "metadata": {},
   "outputs": [],
   "source": []
  },
  {
   "cell_type": "code",
   "execution_count": null,
   "id": "ab75a86c",
   "metadata": {},
   "outputs": [],
   "source": []
  },
  {
   "cell_type": "code",
   "execution_count": null,
   "id": "d089c626",
   "metadata": {},
   "outputs": [],
   "source": [
    "death = month_df.loc[(month_df[\"Sex\"] == \"All Sexes\"), :]\n",
    "death_covid = death.loc[death[\"Age Group\"] == \"All Ages\", :]\n",
    "sum_death_covid = death_covid[\"COVID-19 Deaths\"].sum()\n",
    "sum_death_covid"
   ]
  },
  {
   "cell_type": "code",
   "execution_count": null,
   "id": "b512dc1f",
   "metadata": {},
   "outputs": [],
   "source": [
    "total_death = month_df.loc[(month_df[\"Sex\"] == \"All Sexes\"), :]\n",
    "total_death_covid = total_death.loc[death[\"Age Group\"] == \"All Ages\", :]\n",
    "sum_death = total_death_covid[\"Total Deaths\"].sum()\n",
    "sum_death"
   ]
  },
  {
   "cell_type": "code",
   "execution_count": null,
   "id": "7c7f0cb1",
   "metadata": {},
   "outputs": [],
   "source": [
    "perc = round(sum_death_covid/sum_death * 100, 2)\n",
    "\n",
    "labels = [\"COVID-19 Deaths\", \"Total Deaths\"]\n",
    "colors = [\"lightcoral\", \"lightskyblue\"]\n",
    "sizes = [12.84, 87.16]\n",
    "explode = (0.1, 0)\n",
    "\n",
    "plt.pie(sizes, explode=explode, labels=labels, colors=colors,\n",
    "        autopct=\"%1.1f%%\", shadow=True, startangle=140)\n",
    "plt.title(\"Percentage of COVID-19 Deaths\")\n",
    "plt.axis(\"equal\")\n",
    "plt.savefig(\"Resources/Images/PercentageCOVID19Deaths.png\")\n",
    "plt.show()"
   ]
  },
  {
   "cell_type": "code",
   "execution_count": null,
   "id": "aa0a879b",
   "metadata": {},
   "outputs": [],
   "source": [
    "ax = sns.barplot(data = year_df, x=\"Year\", y = \"COVID-19 Deaths\", hue = \"Sex\", ci=None, palette=\"viridis\")\n",
    "plt.title(\"COVID-19 Deaths from 2019-2022\")\n",
    "ax.set_xticklabels([\"2020\", \"2021\", \"2022\"])\n",
    "plt.savefig(\"Resources/Images/COVIDdeathsYear&Gender.png\")\n",
    "plt.show()\n",
    "\n",
    "#This plot shows that more men have died from COVID than women because\n",
    "#the above line of code states there are an equal number of men and women in the dataframe.\n",
    "#The most people died in 2021, but it was the only time we have an entire year's data."
   ]
  },
  {
   "cell_type": "code",
   "execution_count": null,
   "id": "0a4638c3",
   "metadata": {},
   "outputs": [],
   "source": [
    "#The most COVID deaths occurred in Dec 2020 and Jan 2021. \n",
    "#From Feb - Jun 2021, there was a steady decline as vaccines became available.\n",
    "\n",
    "months = [\"Jan\", \"Feb\", \"Mar\", \"Apr\", \"May\", \"Jun\", \"Jul\", \"Aug\", \"Sep\", \"Oct\", \"Nov\", \"Dec\"]\n",
    "\n",
    "f, ax = plt.subplots(figsize = (8,6))\n",
    "ax = sns.barplot(data = month_df, x=\"Month\", y = \"COVID-19 Deaths\", \n",
    "                 hue = \"Year\", ci=None, palette=\"rocket\")\n",
    "ax.set_xticklabels(months)\n",
    "ax.set_title(\"COVID-19 Deaths from 2020-2022 by Month\")\n",
    "plt.legend(loc=\"upper center\")\n",
    "plt.savefig(\"Resources/Images/COVIDdeathsbyMonth.png\")\n",
    "plt.show()"
   ]
  },
  {
   "cell_type": "code",
   "execution_count": null,
   "id": "6e32a9a8",
   "metadata": {},
   "outputs": [],
   "source": [
    "covid_death_by_month = month_df.loc[:, [\"Year\", \"Month\", \"COVID-19 Deaths\"]]\n",
    "\n",
    "covid_death_by_month = covid_death_by_month.set_index(\"Month\")\n",
    "covid_death_by_month\n"
   ]
  },
  {
   "cell_type": "code",
   "execution_count": null,
   "id": "930933bd",
   "metadata": {},
   "outputs": [],
   "source": [
    "covid_death_by_year = month_df.loc[:, [\"Year\", \"COVID-19 Deaths\"]]\n",
    "covid_death_by_year = covid_death_by_year.groupby(\"Year\").sum()\n",
    "covid_death_by_year"
   ]
  },
  {
   "cell_type": "code",
   "execution_count": null,
   "id": "718e6942",
   "metadata": {},
   "outputs": [],
   "source": [
    "covid_death_by_year.plot(kind = \"bar\", rot=0, color = \"salmon\")\n",
    "plt.ylabel(\"Number of Deaths (Hundred Thousand)\")\n",
    "plt.title(\"Number of COVID-19 Deaths from 2020-2022\")\n",
    "plt.savefig(\"Resources/Images/COVIDdeaths.png\")\n",
    "plt.show()"
   ]
  },
  {
   "cell_type": "code",
   "execution_count": null,
   "id": "c591d235",
   "metadata": {},
   "outputs": [],
   "source": [
    "flu_death_by_year = month_df.loc[:, [\"Year\", \"Influenza Deaths\"]]\n",
    "flu_death_by_year = flu_death_by_year.groupby(\"Year\").sum()\n",
    "flu_death_by_year"
   ]
  },
  {
   "cell_type": "code",
   "execution_count": null,
   "id": "4a2230f1",
   "metadata": {},
   "outputs": [],
   "source": [
    "flu_death_by_year.plot(kind = \"bar\", rot=0, color = \"salmon\")\n",
    "plt.ylabel(\"Number of deaths\")\n",
    "plt.title(\"Number of Flu Deaths from 2020-2022\")\n",
    "plt.ylim(0, 3500000)\n",
    "plt.savefig(\"Resources/Images/Fludeaths.png\")\n",
    "plt.show()"
   ]
  },
  {
   "cell_type": "code",
   "execution_count": null,
   "id": "bd0c2b09",
   "metadata": {},
   "outputs": [],
   "source": [
    "pna_death_by_year = month_df.loc[:, [\"Year\", \"Pneumonia Deaths\"]]\n",
    "pna_death_by_year = pna_death_by_year.groupby(\"Year\").sum()\n",
    "pna_death_by_year"
   ]
  },
  {
   "cell_type": "code",
   "execution_count": null,
   "id": "8a3ee585",
   "metadata": {},
   "outputs": [],
   "source": [
    "pna_death_by_year.plot(kind = \"bar\", rot=0, color = \"salmon\")\n",
    "plt.ylabel(\"Number of deaths (Hundred Thousand)\")\n",
    "plt.title(\"Number of Pneumonia Deaths from 2020-2022\")\n",
    "plt.ylim(0, 3500000)\n",
    "plt.savefig(\"Resources/Images/PNAdeaths.png\")\n",
    "plt.show()"
   ]
  },
  {
   "cell_type": "code",
   "execution_count": null,
   "id": "fb516a93",
   "metadata": {
    "scrolled": true
   },
   "outputs": [],
   "source": [
    "f, ax = plt.subplots(figsize = (10, 10))\n",
    "states_df = year_df.loc[(health_df[\"State\"] != \"United States\"), :]\n",
    "states_df = states_df.groupby([\"State\"])[\"COVID-19 Deaths\"].sum()\n",
    "states_df.plot(kind=\"barh\")\n",
    "plt.title(\"Total COVID-19 Deaths by State\")\n",
    "plt.xlabel(\"Number of COVID-19 Deaths\")\n",
    "plt.savefig(\"Resources/Images/COVIDdeathbyState.png\")\n",
    "plt.show()"
   ]
  },
  {
   "cell_type": "code",
   "execution_count": null,
   "id": "e69a2160",
   "metadata": {},
   "outputs": [],
   "source": [
    "#Covid vs PNA deaths\n",
    "plt.scatter(year_df['COVID-19 Deaths'],year_df['Pneumonia Deaths'], c=year_df['Year'])\n",
    "clb = plt.colorbar()\n",
    "plt.xlabel(\"COVID-19 Deaths\")\n",
    "plt.ylabel(\"Pneumonia Deaths\")\n",
    "plt.title(\"COVID vs. Pneumonia Deaths from 2020-2022\")\n",
    "clb.set_label(\"Year\")\n",
    "plt.savefig(\"Resources/Images/ScatterPNAvsCOVID.png\")\n",
    "plt.show()\n"
   ]
  },
  {
   "cell_type": "code",
   "execution_count": null,
   "id": "fdf3e621",
   "metadata": {},
   "outputs": [],
   "source": [
    "#Covid vs flu deaths\n",
    "plt.scatter(year_df['COVID-19 Deaths'],year_df['Influenza Deaths'], c=year_df['Year'])\n",
    "clb = plt.colorbar()\n",
    "plt.xlabel(\"COVID-19 Deaths\")\n",
    "plt.ylabel(\"Influenza Deaths\")\n",
    "plt.title(\"COVID vs. Influenza Deaths from 2020-2022\")\n",
    "clb.set_label(\"Year\")\n",
    "plt.savefig(\"Resources/Images/ScatterFluvsCOVID.png\")\n",
    "plt.show()"
   ]
  },
  {
   "cell_type": "code",
   "execution_count": null,
   "id": "613dadfb",
   "metadata": {},
   "outputs": [],
   "source": [
    "#Covid vs Total deaths\n",
    "plt.scatter(year_df['COVID-19 Deaths'],year_df['Total Deaths'], c=year_df['Year'])\n",
    "clb = plt.colorbar()\n",
    "plt.xlabel(\"COVID-19 Deaths\")\n",
    "plt.ylabel(\"Total Deaths (Millions)\")\n",
    "plt.title(\"COVID vs. Total Deaths from 2020-2022\")\n",
    "clb.set_label(\"Year\")\n",
    "plt.savefig(\"Resources/Images/ScatterTotalvsCOVID.png\")\n",
    "plt.show()"
   ]
  },
  {
   "cell_type": "code",
   "execution_count": null,
   "id": "ddc4efdd",
   "metadata": {},
   "outputs": [],
   "source": [
    "states_df = pd.DataFrame(states_df)\n",
    "ax = sns.heatmap(states_df, linewidth=0.5,square=True)\n",
    "plt.show()"
   ]
  },
  {
   "cell_type": "code",
   "execution_count": null,
   "id": "461150db",
   "metadata": {},
   "outputs": [],
   "source": [
    "new_month_df = month_df.dropna()\n",
    "subset = new_month_df.sample(3000, random_state = 42)\n",
    "sample = new_month_df.sample(3000)\n",
    "print(f\"The SEM value for the sample COVID-19 Deaths is {sem(sample['COVID-19 Deaths'])}\")\n",
    "\n",
    "\n",
    "covid_sample_set = [new_month_df.sample(3000) for x in range(0,35)]\n",
    "means = [sample['COVID-19 Deaths'].mean() for sample in covid_sample_set]\n",
    "standard_errors = [sem(sample['COVID-19 Deaths']) for sample in covid_sample_set]\n",
    "x_axis = np.arange(0, len(covid_sample_set), 1) + 1\n",
    "\n",
    "fig, ax = plt.subplots()\n",
    "ax.errorbar(x_axis, means, standard_errors, fmt=\"o\")\n",
    "ax.set_xlim(0, len(covid_sample_set) + 1)\n",
    "\n",
    "ax.set_xlabel(\"Sample Number\")\n",
    "ax.set_ylabel(\"Mean COVID-19 Deaths\")\n",
    "plt.show()\n",
    "plt.savefig(\"Resources/Images/SEMCOVID.png\")"
   ]
  },
  {
   "cell_type": "code",
   "execution_count": null,
   "id": "0982a16d",
   "metadata": {},
   "outputs": [],
   "source": [
    "new_month_df = month_df.dropna()\n",
    "subset = new_month_df.sample(3000, random_state = 42)\n",
    "sample = new_month_df.sample(3000)\n",
    "print(f\"The SEM value for the sample Pneumonia Deaths is {sem(sample['Pneumonia Deaths'])}\")\n",
    "\n",
    "covid_sample_set = [new_month_df.sample(3000) for x in range(0,35)]\n",
    "means = [sample['Pneumonia Deaths'].mean() for sample in covid_sample_set]\n",
    "standard_errors = [sem(sample['Pneumonia Deaths']) for sample in covid_sample_set]\n",
    "x_axis = np.arange(0, len(covid_sample_set), 1) + 1\n",
    "\n",
    "fig, ax = plt.subplots()\n",
    "ax.errorbar(x_axis, means, standard_errors, fmt=\"o\")\n",
    "ax.set_xlim(0, len(covid_sample_set) + 1)\n",
    "\n",
    "ax.set_xlabel(\"Sample Number\")\n",
    "ax.set_ylabel(\"Mean Pneumonia Deaths\")\n",
    "plt.savefig(\"Resources/Images/SEMPNA.png\")\n",
    "plt.show()"
   ]
  },
  {
   "cell_type": "code",
   "execution_count": null,
   "id": "907d701c",
   "metadata": {},
   "outputs": [],
   "source": [
    "new_month_df = month_df.dropna()\n",
    "subset = new_month_df.sample(3000, random_state = 42)\n",
    "sample = new_month_df.sample(3000)\n",
    "print(f\"The SEM value for the sample Influenza Deaths is {sem(sample['Influenza Deaths'])}\")\n",
    "\n",
    "covid_sample_set = [new_month_df.sample(3000) for x in range(0,35)]\n",
    "means = [sample['Influenza Deaths'].mean() for sample in covid_sample_set]\n",
    "standard_errors = [sem(sample['Influenza Deaths']) for sample in covid_sample_set]\n",
    "x_axis = np.arange(0, len(covid_sample_set), 1) + 1\n",
    "\n",
    "fig, ax = plt.subplots()\n",
    "ax.errorbar(x_axis, means, standard_errors, fmt=\"o\")\n",
    "ax.set_xlim(0, len(covid_sample_set) + 1)\n",
    "\n",
    "ax.set_xlabel(\"Sample Number\")\n",
    "ax.set_ylabel(\"Mean Pneumonia Deaths\")\n",
    "plt.savefig(\"Resources/Images/SEMFlu.png\")\n",
    "plt.show()"
   ]
  }
 ],
 "metadata": {
  "kernelspec": {
   "display_name": "Python [conda env:PythonData38] *",
   "language": "python",
   "name": "conda-env-PythonData38-py"
  },
  "language_info": {
   "codemirror_mode": {
    "name": "ipython",
    "version": 3
   },
   "file_extension": ".py",
   "mimetype": "text/x-python",
   "name": "python",
   "nbconvert_exporter": "python",
   "pygments_lexer": "ipython3",
   "version": "3.8.12"
  }
 },
 "nbformat": 4,
 "nbformat_minor": 5
}
