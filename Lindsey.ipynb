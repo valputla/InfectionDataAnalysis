{
 "cells": [
  {
   "cell_type": "code",
   "execution_count": null,
   "id": "3c9b489a",
   "metadata": {},
   "outputs": [],
   "source": [
    "import matplotlib.pyplot as plt\n",
    "import pandas as pd\n",
    "from scipy.stats import linregress\n",
    "import seaborn as sns\n",
    "import numpy as np\n",
    "from scipy.stats import sem"
   ]
  },
  {
   "cell_type": "code",
   "execution_count": null,
   "id": "145e75fb",
   "metadata": {},
   "outputs": [],
   "source": [
    "#This is the full data frame with some extra columns removed\n",
    "health_df = pd.read_csv(\"Resources/Provisional_COVID-19_Deaths_by_Sex_and_Age.csv\")\n",
    "health_df = health_df.drop(columns = [\"Data As Of\", \"Start Date\", \"End Date\", \"Footnote\"])\n",
    "health_df.head()"
   ]
  },
  {
   "cell_type": "code",
   "execution_count": null,
   "id": "779e0d62",
   "metadata": {},
   "outputs": [],
   "source": [
    "#I have removed some random age groups\n",
    "age_adjusted_df = health_df.loc[(health_df[\"Age Group\"] != \"40-49 years\") &\n",
    "                                (health_df[\"Age Group\"] != \"30-39 years\") &\n",
    "                                (health_df[\"Age Group\"] != \"18-29 years\") &\n",
    "                                (health_df[\"Age Group\"] != \"0-17 years\") &\n",
    "                                (health_df[\"Age Group\"] != \"50-64 years\"), :]"
   ]
  },
  {
   "cell_type": "code",
   "execution_count": null,
   "id": "2aa45a94",
   "metadata": {},
   "outputs": [],
   "source": [
    "#This data frame shows deaths regardless of Year and Month\n",
    "#This data frame can be sorted by State, Sex, and Age Group\n",
    "#State: You can choose any of the 50 states, Puerto Rico, or the United States as a whole\n",
    "#Sex: Male, Female, All Sexes\n",
    "#Age Group:\n",
    "    #All ages\n",
    "    #Under 1 year\n",
    "    #1-4 years old\n",
    "    #5-14 years old\n",
    "    #15-24 years old\n",
    "    #25-34 years old\n",
    "    #35-44 years old\n",
    "    #45-54 years old\n",
    "    #55-64 years old\n",
    "    #65-74 years old\n",
    "    #75-84 years old\n",
    "    #85 years and over\n",
    "total_df = age_adjusted_df.loc[health_df[\"Group\"] == \"By Total\", :]\n",
    "total_df = total_df.drop(columns = [\"Year\", \"Month\", \"Group\"])\n",
    "total_df.head()"
   ]
  },
  {
   "cell_type": "code",
   "execution_count": null,
   "id": "3889d718",
   "metadata": {},
   "outputs": [],
   "source": [
    "#This data frame shows deaths by year, regardless of Month.\n",
    "#You can pick 2020, 2021, or 2022\n",
    "#This data frame can be sorted by State, Sex, and Age Group\n",
    "#State: You can choose any of the 50 states, Puerto Rico, or the United States as a whole\n",
    "#Sex: Male, Female, All Sexes\n",
    "#Age Group:\n",
    "    #All ages\n",
    "    #Under 1 year\n",
    "    #1-4 years old\n",
    "    #5-14 years old\n",
    "    #15-24 years old\n",
    "    #25-34 years old\n",
    "    #35-44 years old\n",
    "    #45-54 years old\n",
    "    #55-64 years old\n",
    "    #65-74 years old\n",
    "    #75-84 years old\n",
    "    #85 years and over\n",
    "year_df = age_adjusted_df.loc[health_df[\"Group\"] == \"By Year\", :]\n",
    "year_df = year_df.drop(columns = [\"Month\", \"Group\"])\n",
    "year_df"
   ]
  },
  {
   "cell_type": "code",
   "execution_count": null,
   "id": "5a6d1bc4",
   "metadata": {},
   "outputs": [],
   "source": [
    "#This data frame shows deaths by Month.\n",
    "#You can pick any month numerically (ex. January = 1.0)\n",
    "#This data frame can be sorted by Year, State, Sex, and Age Group\n",
    "#Year: You can pick 2020, 2021, or 2022\n",
    "#State: You can choose any of the 50 states, Puerto Rico, or the United States as a whole\n",
    "#Sex: Male, Female, All Sexes\n",
    "#Age Group:\n",
    "    #All ages\n",
    "    #Under 1 year\n",
    "    #1-4 years old\n",
    "    #5-14 years old\n",
    "    #15-24 years old\n",
    "    #25-34 years old\n",
    "    #35-44 years old\n",
    "    #45-54 years old\n",
    "    #55-64 years old\n",
    "    #65-74 years old\n",
    "    #75-84 years old\n",
    "    #85 years and over\n",
    "month_df = age_adjusted_df.loc[health_df[\"Group\"] == \"By Month\", :]\n",
    "month_df = month_df.drop(columns = \"Group\")\n",
    "month_df.head()"
   ]
  },
  {
   "cell_type": "code",
   "execution_count": null,
   "id": "ece13667",
   "metadata": {},
   "outputs": [],
   "source": [
    "men = year_df[\"Sex\"] == \"Men\"\n",
    "print(f\"There are {men.count()} men in the dataframe.\")\n",
    "      \n",
    "women = year_df[\"Sex\"] == \"Women\"\n",
    "print(f\"There are {women.count()} women in the dataframe.\")    "
   ]
  },
  {
   "cell_type": "code",
   "execution_count": null,
   "id": "aa0a879b",
   "metadata": {},
   "outputs": [],
   "source": [
    "ax = sns.barplot(data = year_df, x=\"Year\", y = \"COVID-19 Deaths\", hue = \"Sex\", ci=None, palette=\"viridis\")\n",
    "plt.title(\"COVID-19 Deaths from 2019-2022\")\n",
    "ax.set_xticklabels([\"2020\", \"2021\", \"2022\"])\n",
    "plt.savefig(\"Resources/Images/COVIDdeathsYear&Gender.png\")\n",
    "plt.show()\n",
    "\n",
    "#This plot shows that more men have died from COVID than women because\n",
    "#the above line of code states there are an equal number of men and women in the dataframe.\n",
    "#The most people died in 2021, but it was the only time we have an entire year's data."
   ]
  },
  {
   "cell_type": "code",
   "execution_count": null,
   "id": "0a4638c3",
   "metadata": {},
   "outputs": [],
   "source": [
    "#The most COVID deaths occurred in Dec 2020 and Jan 2021. \n",
    "#From Feb - Jun 2021, there was a steady decline as vaccines became available.\n",
    "\n",
    "months = [\"Jan\", \"Feb\", \"Mar\", \"Apr\", \"May\", \"Jun\", \"Jul\", \"Aug\", \"Sep\", \"Oct\", \"Nov\", \"Dec\"]\n",
    "\n",
    "f, ax = plt.subplots(figsize = (8,6))\n",
    "ax = sns.barplot(data = month_df, x=\"Month\", y = \"COVID-19 Deaths\", \n",
    "                 hue = \"Year\", ci=None, palette=\"rocket\")\n",
    "ax.set_xticklabels(months)\n",
    "ax.set_title(\"COVID-19 Deaths from 2020-2022 by Month\")\n",
    "plt.legend(loc=\"upper center\")\n",
    "plt.savefig(\"Resources/Images/COVIDdeathsbyMonth.png\")\n",
    "plt.show()"
   ]
  },
  {
   "cell_type": "code",
   "execution_count": null,
   "id": "6e32a9a8",
   "metadata": {},
   "outputs": [],
   "source": [
    "covid_death_by_month = month_df.loc[:, [\"Year\", \"Month\", \"COVID-19 Deaths\"]]\n",
    "\n",
    "covid_death_by_month = covid_death_by_month.set_index(\"Month\")\n",
    "covid_death_by_month\n"
   ]
  },
  {
   "cell_type": "code",
   "execution_count": null,
   "id": "930933bd",
   "metadata": {},
   "outputs": [],
   "source": [
    "covid_death_by_year = month_df.loc[:, [\"Year\", \"COVID-19 Deaths\"]]\n",
    "covid_death_by_year = covid_death_by_year.groupby(\"Year\").sum()\n",
    "covid_death_by_year"
   ]
  },
  {
   "cell_type": "code",
   "execution_count": null,
   "id": "718e6942",
   "metadata": {},
   "outputs": [],
   "source": [
    "covid_death_by_year.plot(kind = \"bar\", rot=0, color = \"salmon\")\n",
    "plt.ylabel(\"Number of Deaths (Million)\")\n",
    "plt.title(\"Number of COVID-19 Deaths from 2020-2022\")\n",
    "plt.savefig(\"Resources/Images/COVIDdeaths.png\")\n",
    "plt.show()"
   ]
  },
  {
   "cell_type": "code",
   "execution_count": null,
   "id": "c591d235",
   "metadata": {},
   "outputs": [],
   "source": [
    "flu_death_by_year = month_df.loc[:, [\"Year\", \"Influenza Deaths\"]]\n",
    "flu_death_by_year = flu_death_by_year.groupby(\"Year\").sum()\n",
    "flu_death_by_year"
   ]
  },
  {
   "cell_type": "code",
   "execution_count": null,
   "id": "4a2230f1",
   "metadata": {},
   "outputs": [],
   "source": [
    "flu_death_by_year.plot(kind = \"bar\", rot=0, color = \"salmon\")\n",
    "plt.ylabel(\"Number of deaths\")\n",
    "plt.title(\"Number of Flu Deaths from 2020-2022\")\n",
    "plt.savefig(\"Resources/Images/Fludeaths.png\")\n",
    "plt.show()"
   ]
  },
  {
   "cell_type": "code",
   "execution_count": null,
   "id": "bd0c2b09",
   "metadata": {},
   "outputs": [],
   "source": [
    "pna_death_by_year = month_df.loc[:, [\"Year\", \"Pneumonia Deaths\"]]\n",
    "pna_death_by_year = pna_death_by_year.groupby(\"Year\").sum()\n",
    "pna_death_by_year"
   ]
  },
  {
   "cell_type": "code",
   "execution_count": null,
   "id": "8a3ee585",
   "metadata": {},
   "outputs": [],
   "source": [
    "pna_death_by_year.plot(kind = \"bar\", rot=0, color = \"salmon\")\n",
    "plt.ylabel(\"Number of deaths (Million)\")\n",
    "plt.title(\"Number of Pneumonia Deaths from 2020-2022\")\n",
    "plt.savefig(\"Resources/Images/PNAdeaths.png\")\n",
    "plt.show()"
   ]
  },
  {
   "cell_type": "code",
   "execution_count": null,
   "id": "e1afe6e1",
   "metadata": {},
   "outputs": [],
   "source": []
  },
  {
   "cell_type": "code",
   "execution_count": null,
   "id": "fb516a93",
   "metadata": {
    "scrolled": true
   },
   "outputs": [],
   "source": [
    "f, ax = plt.subplots(figsize = (10, 10))\n",
    "states_df = year_df.loc[(health_df[\"State\"] != \"United States\"), :]\n",
    "states_df = states_df.groupby([\"State\"])[\"COVID-19 Deaths\"].sum()\n",
    "states_df.plot(kind=\"barh\")\n",
    "plt.title(\"Total COVID-19 Deaths by State\")\n",
    "plt.xlabel(\"Number of COVID-19 Deaths\")\n",
    "plt.savefig(\"Resources/Images/COVIDdeathbyState.png\")\n",
    "plt.show()"
   ]
  },
  {
   "cell_type": "code",
   "execution_count": null,
   "id": "011d051b",
   "metadata": {},
   "outputs": [],
   "source": [
    "state = year_df[\"State\"].unique()\n",
    "year = year_df[\"Age Group\"].unique()"
   ]
  },
  {
   "cell_type": "code",
   "execution_count": null,
   "id": "e69a2160",
   "metadata": {},
   "outputs": [],
   "source": [
    "#Covid vs PNA deaths\n",
    "plt.scatter(year_df['COVID-19 Deaths'],year_df['Pneumonia Deaths'], c=year_df['Year'])\n",
    "clb = plt.colorbar()\n",
    "plt.xlabel(\"COVID-19 Deaths\")\n",
    "plt.ylabel(\"Pneumonia Deaths\")\n",
    "plt.title(\"COVID vs. Pneumonia Deaths from 2020-2022\")\n",
    "clb.set_label(\"Year\")\n",
    "plt.savefig(\"Resources/Images/ScatterPNAvsCOVID.png\")\n",
    "plt.show()\n"
   ]
  },
  {
   "cell_type": "code",
   "execution_count": null,
   "id": "fdf3e621",
   "metadata": {},
   "outputs": [],
   "source": [
    "#Covid vs flu deaths\n",
    "plt.scatter(year_df['COVID-19 Deaths'],year_df['Influenza Deaths'], c=year_df['Year'])\n",
    "clb = plt.colorbar()\n",
    "plt.xlabel(\"COVID-19 Deaths\")\n",
    "plt.ylabel(\"Influenza Deaths\")\n",
    "plt.title(\"COVID vs. Influenza Deaths from 2020-2022\")\n",
    "clb.set_label(\"Year\")\n",
    "plt.savefig(\"Resources/Images/ScatterFluvsCOVID.png\")\n",
    "plt.show()"
   ]
  },
  {
   "cell_type": "code",
   "execution_count": null,
   "id": "613dadfb",
   "metadata": {},
   "outputs": [],
   "source": [
    "#Covid vs Total deaths\n",
    "plt.scatter(year_df['COVID-19 Deaths'],year_df['Total Deaths'], c=year_df['Year'])\n",
    "clb = plt.colorbar()\n",
    "plt.xlabel(\"COVID-19 Deaths\")\n",
    "plt.ylabel(\"Total Deaths (Millions)\")\n",
    "plt.title(\"COVID vs. Total Deaths from 2020-2022\")\n",
    "clb.set_label(\"Year\")\n",
    "plt.savefig(\"Resources/Images/ScatterTotalvsCOVID.png\")\n",
    "plt.show()"
   ]
  },
  {
   "cell_type": "code",
   "execution_count": null,
   "id": "ddc4efdd",
   "metadata": {},
   "outputs": [],
   "source": [
    "states_df = pd.DataFrame(states_df)\n",
    "ax = sns.heatmap(states_df, linewidth=0.5,square=True)\n",
    "plt.show()"
   ]
  },
  {
   "cell_type": "code",
   "execution_count": null,
   "id": "b27946da",
   "metadata": {},
   "outputs": [],
   "source": [
    "\n",
    "# # states = states_df[\"State\"]\n",
    "# covid_deaths_state = states_df[\"COVID-19 Deaths\"]\n",
    "# covid_deaths_state = pd.DataFrame(covid_deaths_state)\n",
    "# covid_deaths_state\n",
    "# states_df.plot(kind=\"scatter\")"
   ]
  },
  {
   "cell_type": "code",
   "execution_count": null,
   "id": "08d2b34d",
   "metadata": {},
   "outputs": [],
   "source": [
    "total_df.describe()"
   ]
  },
  {
   "cell_type": "code",
   "execution_count": null,
   "id": "461150db",
   "metadata": {},
   "outputs": [],
   "source": [
    "new_month_df = month_df.dropna()\n",
    "subset = new_month_df.sample(3000, random_state = 42)\n",
    "\n",
    "print(f\"The SEM value for the sample COVID-19 Deaths is {sem(sample['COVID-19 Deaths'])}\")\n",
    "\n",
    "# Create a sample set of 35, each with 3000 data points\n",
    "covid_sample_set = [new_month_df.sample(3000) for x in range(0,35)]\n",
    "means = [sample['COVID-19 Deaths'].mean() for sample in covid_sample_set]\n",
    "standard_errors = [sem(sample['COVID-19 Deaths']) for sample in covid_sample_set]\n",
    "x_axis = np.arange(0, len(covid_sample_set), 1) + 1\n",
    "\n",
    "fig, ax = plt.subplots()\n",
    "ax.errorbar(x_axis, means, standard_errors, fmt=\"o\")\n",
    "ax.set_xlim(0, len(covid_sample_set) + 1)\n",
    "\n",
    "ax.set_xlabel(\"Sample Number\")\n",
    "ax.set_ylabel(\"Mean COVID-19 Deaths\")\n",
    "plt.show()\n",
    "plt.savefig(\"Resources/Images/SEMCOVID.png\")"
   ]
  },
  {
   "cell_type": "code",
   "execution_count": null,
   "id": "0982a16d",
   "metadata": {},
   "outputs": [],
   "source": [
    "new_month_df = month_df.dropna()\n",
    "subset = new_month_df.sample(3000, random_state = 42)\n",
    "\n",
    "print(f\"The SEM value for the sample Pneumonia Deaths is {sem(sample['Pneumonia Deaths'])}\")\n",
    "\n",
    "# Create a sample set of 35, each with 3000 data points\n",
    "covid_sample_set = [new_month_df.sample(3000) for x in range(0,35)]\n",
    "means = [sample['Pneumonia Deaths'].mean() for sample in covid_sample_set]\n",
    "standard_errors = [sem(sample['Pneumonia Deaths']) for sample in covid_sample_set]\n",
    "x_axis = np.arange(0, len(covid_sample_set), 1) + 1\n",
    "\n",
    "fig, ax = plt.subplots()\n",
    "ax.errorbar(x_axis, means, standard_errors, fmt=\"o\")\n",
    "ax.set_xlim(0, len(covid_sample_set) + 1)\n",
    "\n",
    "ax.set_xlabel(\"Sample Number\")\n",
    "ax.set_ylabel(\"Mean Pneumonia Deaths\")\n",
    "plt.savefig(\"Resources/Images/SEMPNA.png\")\n",
    "plt.show()"
   ]
  },
  {
   "cell_type": "code",
   "execution_count": null,
   "id": "907d701c",
   "metadata": {},
   "outputs": [],
   "source": [
    "new_month_df = month_df.dropna()\n",
    "subset = new_month_df.sample(3000, random_state = 42)\n",
    "\n",
    "print(f\"The SEM value for the sample Influenza Deaths is {sem(sample['Influenza Deaths'])}\")\n",
    "\n",
    "# Create a sample set of 35, each with 3000 data points\n",
    "covid_sample_set = [new_month_df.sample(3000) for x in range(0,35)]\n",
    "means = [sample['Influenza Deaths'].mean() for sample in covid_sample_set]\n",
    "standard_errors = [sem(sample['Influenza Deaths']) for sample in covid_sample_set]\n",
    "x_axis = np.arange(0, len(covid_sample_set), 1) + 1\n",
    "\n",
    "fig, ax = plt.subplots()\n",
    "ax.errorbar(x_axis, means, standard_errors, fmt=\"o\")\n",
    "ax.set_xlim(0, len(covid_sample_set) + 1)\n",
    "\n",
    "ax.set_xlabel(\"Sample Number\")\n",
    "ax.set_ylabel(\"Mean Pneumonia Deaths\")\n",
    "plt.savefig(\"Resources/Images/SEMFlu.png\")\n",
    "plt.show()"
   ]
  },
  {
   "cell_type": "code",
   "execution_count": null,
   "id": "32abaf88",
   "metadata": {},
   "outputs": [],
   "source": [
    "# data = [states, covid_deaths_state]\n",
    "fig, ax = plt.subplots(figsize = (20,20))\n",
    "plt.imshow(states_df, cmap='tab20_r', interpolation='nearest')\n",
    "plt.show()"
   ]
  }
 ],
 "metadata": {
  "kernelspec": {
   "display_name": "Python [conda env:PythonData38] *",
   "language": "python",
   "name": "conda-env-PythonData38-py"
  },
  "language_info": {
   "codemirror_mode": {
    "name": "ipython",
    "version": 3
   },
   "file_extension": ".py",
   "mimetype": "text/x-python",
   "name": "python",
   "nbconvert_exporter": "python",
   "pygments_lexer": "ipython3",
   "version": "3.8.12"
  }
 },
 "nbformat": 4,
 "nbformat_minor": 5
}
