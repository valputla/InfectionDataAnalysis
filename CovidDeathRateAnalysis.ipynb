{
 "cells": [
  {
   "cell_type": "code",
   "execution_count": null,
   "id": "9d1cf230",
   "metadata": {},
   "outputs": [],
   "source": [
    "import matplotlib.pyplot as plt\n",
    "import pandas as pd\n",
    "from scipy.stats import linregress\n",
    "import seaborn as sns\n",
    "import numpy as np\n",
    "from scipy.stats import sem"
   ]
  },
  {
   "cell_type": "code",
   "execution_count": null,
   "id": "0ca1cc69",
   "metadata": {},
   "outputs": [],
   "source": [
    "#This is the full data frame with some extra columns removed\n",
    "health_df = pd.read_csv(\"Resources/Provisional_COVID-19_Deaths_by_Sex_and_Age.csv\")\n",
    "health_df = health_df.drop(columns = [\"Data As Of\", \"Start Date\", \"End Date\", \"Footnote\"])\n",
    "health_df.head()"
   ]
  },
  {
   "cell_type": "code",
   "execution_count": null,
   "id": "de6c366b",
   "metadata": {},
   "outputs": [],
   "source": [
    "#I have removed some random age groups\n",
    "age_adjusted_df = health_df.loc[(health_df[\"Age Group\"] != \"40-49 years\") &\n",
    "                                (health_df[\"Age Group\"] != \"30-39 years\") &\n",
    "                                (health_df[\"Age Group\"] != \"18-29 years\") &\n",
    "                                (health_df[\"Age Group\"] != \"0-17 years\") &\n",
    "                                (health_df[\"Age Group\"] != \"50-64 years\"), :]"
   ]
  },
  {
   "cell_type": "code",
   "execution_count": null,
   "id": "902b1bc0",
   "metadata": {},
   "outputs": [],
   "source": [
    "#This data frame shows deaths regardless of Year and Month\n",
    "#This data frame can be sorted by State, Sex, and Age Group\n",
    "#State: You can choose any of the 50 states, Puerto Rico, or the United States as a whole\n",
    "#Sex: Male, Female, All Sexes\n",
    "#Age Group:\n",
    "    #All ages\n",
    "    #Under 1 year\n",
    "    #1-4 years old\n",
    "    #5-14 years old\n",
    "    #15-24 years old\n",
    "    #25-34 years old\n",
    "    #35-44 years old\n",
    "    #45-54 years old\n",
    "    #55-64 years old\n",
    "    #65-74 years old\n",
    "    #75-84 years old\n",
    "    #85 years and over\n",
    "total_df = age_adjusted_df.loc[health_df[\"Group\"] == \"By Total\", :]\n",
    "total_df = total_df.drop(columns = [\"Year\", \"Month\", \"Group\"])\n",
    "total_df.head()"
   ]
  },
  {
   "cell_type": "code",
   "execution_count": null,
   "id": "daa57772",
   "metadata": {},
   "outputs": [],
   "source": [
    "#This data frame shows deaths by year, regardless of Month.\n",
    "#You can pick 2020, 2021, or 2022\n",
    "#This data frame can be sorted by State, Sex, and Age Group\n",
    "#State: You can choose any of the 50 states, Puerto Rico, or the United States as a whole\n",
    "#Sex: Male, Female, All Sexes\n",
    "#Age Group:\n",
    "    #All ages\n",
    "    #Under 1 year\n",
    "    #1-4 years old\n",
    "    #5-14 years old\n",
    "    #15-24 years old\n",
    "    #25-34 years old\n",
    "    #35-44 years old\n",
    "    #45-54 years old\n",
    "    #55-64 years old\n",
    "    #65-74 years old\n",
    "    #75-84 years old\n",
    "    #85 years and over\n",
    "year_df = age_adjusted_df.loc[health_df[\"Group\"] == \"By Year\", :]\n",
    "year_df = year_df.drop(columns = [\"Month\", \"Group\"])\n",
    "year_df = year_df.replace(\"New York City\", \"New York\")\n",
    "year_df.head()"
   ]
  },
  {
   "cell_type": "code",
   "execution_count": null,
   "id": "827083d8",
   "metadata": {},
   "outputs": [],
   "source": [
    "#This data frame shows deaths by Month.\n",
    "#You can pick any month numerically (ex. January = 1.0)\n",
    "#This data frame can be sorted by Year, State, Sex, and Age Group\n",
    "#Year: You can pick 2020, 2021, or 2022\n",
    "#State: You can choose any of the 50 states, Puerto Rico, or the United States as a whole\n",
    "#Sex: Male, Female, All Sexes\n",
    "#Age Group:\n",
    "    #All ages\n",
    "    #Under 1 year\n",
    "    #1-4 years old\n",
    "    #5-14 years old\n",
    "    #15-24 years old\n",
    "    #25-34 years old\n",
    "    #35-44 years old\n",
    "    #45-54 years old\n",
    "    #55-64 years old\n",
    "    #65-74 years old\n",
    "    #75-84 years old\n",
    "    #85 years and over\n",
    "month_df = age_adjusted_df.loc[health_df[\"Group\"] == \"By Month\", :]\n",
    "month_df = month_df.drop(columns = \"Group\")\n",
    "month_df = month_df.replace(\"New York City\", \"New York\")\n",
    "month_df.head()"
   ]
  },
  {
   "cell_type": "code",
   "execution_count": null,
   "id": "d2f99638",
   "metadata": {},
   "outputs": [],
   "source": [
    "men = year_df[\"Sex\"] == \"Men\"\n",
    "print(f\"There are {men.count()} men in the dataframe.\")\n",
    "      \n",
    "women = year_df[\"Sex\"] == \"Women\"\n",
    "print(f\"There are {women.count()} women in the dataframe.\")    "
   ]
  },
  {
   "cell_type": "code",
   "execution_count": null,
   "id": "aa0a879b",
   "metadata": {},
   "outputs": [],
   "source": [
    "ax = sns.barplot(data = year_df, x=\"Year\", y = \"COVID-19 Deaths\", hue = \"Sex\", ci=None, palette=\"viridis\")\n",
    "plt.title(\"COVID-19 Deaths from 2020-2022\")\n",
    "ax.set_xticklabels([\"2020\", \"2021\", \"2022\"])\n",
    "plt.savefig(\"Resources/Images/CovidDeathsBySexAndYear.png\")\n",
    "plt.show()\n",
    "\n",
    "#This plot shows that more men have died from COVID than women because\n",
    "#the above line of code states there are an equal number of men and women in the dataframe.\n",
    "#The most people died in 2021, but it was the only time we have an entire year's data."
   ]
  },
  {
   "cell_type": "code",
   "execution_count": null,
   "id": "0a4638c3",
   "metadata": {},
   "outputs": [],
   "source": [
    "#The most COVID deaths occurred in Dec 2020 and Jan 2021. \n",
    "#From Feb - Jun 2021, there was a steady decline as vaccines became available.\n",
    "\n",
    "months = [\"Jan\", \"Feb\", \"Mar\", \"Apr\", \"May\", \"Jun\", \"Jul\", \"Aug\", \"Sep\", \"Oct\", \"Nov\", \"Dec\"]\n",
    "\n",
    "f, ax = plt.subplots(figsize = (8,6))\n",
    "ax = sns.barplot(data = month_df, x=\"Month\", y = \"COVID-19 Deaths\", \n",
    "                 hue = \"Year\", ci=None, palette=\"rocket\")\n",
    "ax.set_xticklabels(months)\n",
    "ax.set_title(\"COVID-19 Deaths from 2020-2022 by Month\")\n",
    "plt.legend(loc=\"upper center\")\n",
    "plt.savefig(\"Resources/Images/CovidDeathsByMonth.png\")\n",
    "plt.show()"
   ]
  },
  {
   "cell_type": "code",
   "execution_count": null,
   "id": "6e32a9a8",
   "metadata": {},
   "outputs": [],
   "source": [
    "total_deaths = total_df.iloc[0, :]\n",
    "total_deaths_df = pd.DataFrame(index = [0,1,2])\n",
    "total_deaths_df[\"Disease Type\"] = [\"COVID-19\", \"Pneumonia\", \"Influenza\"]\n",
    "total_deaths_df[\"Total Deaths (by thousands)\"] = [total_deaths[\"COVID-19 Deaths\"] / 1000,\n",
    "                                                  total_deaths[\"Pneumonia Deaths\"] / 1000,\n",
    "                                                  total_deaths[\"Influenza Deaths\"] / 1000]"
   ]
  },
  {
   "cell_type": "code",
   "execution_count": null,
   "id": "fa108e04",
   "metadata": {},
   "outputs": [],
   "source": [
    "f, ax = plt.subplots(figsize = (8,6))\n",
    "ax = sns.barplot(data = total_deaths_df, x = \"Disease Type\", y = \"Total Deaths (by thousands)\", \n",
    "                  ci=None, palette=\"rocket\")\n",
    "ax.set_title(\"Total Deaths by Disease from 2020-2022\")\n",
    "plt.ylim([0, total_deaths_df[\"Total Deaths (by thousands)\"].max() + 100])\n",
    "plt.rc('axes', labelsize=16, titlesize=16) \n",
    "plt.savefig(\"Resources/Images/TotalDeaths.png\")\n",
    "plt.show()\n",
    "\n",
    "#This graph shows the total deaths by Disease from the start of 2020.\n",
    "#There were significantly more COVID-19 and Pneumonia deaths than Influenza deaths."
   ]
  },
  {
   "cell_type": "code",
   "execution_count": null,
   "id": "e5686bcb",
   "metadata": {},
   "outputs": [],
   "source": [
    "year = [2020.0, 2021.0, 2022.0]\n",
    "covid = []\n",
    "pneumonia = []\n",
    "influenza = []\n",
    "for x in year:\n",
    "    deaths = year_df.loc[(year_df[\"Year\"] == x) & (year_df[\"State\"] == \"United States\") &\n",
    "                        (year_df[\"Sex\"] == \"All Sexes\") & (year_df[\"Age Group\"] == \"All Ages\")]\n",
    "    covid.append(deaths[\"COVID-19 Deaths\"] / 1000)\n",
    "    pneumonia.append(deaths[\"Pneumonia Deaths\"] / 1000)\n",
    "    influenza.append(deaths[\"Influenza Deaths\"] / 1000)\n",
    "yearly_deaths_df = pd.DataFrame(index = range(0, 9))\n",
    "yearly_deaths_df[\"Year\"] = [\"2020\", \"2020\", \"2020\", \"2021\", \"2021\", \"2021\", \"2022\", \"2022\", \"2022\"]\n",
    "yearly_deaths_df[\"Disease Type\"] = [\"COVID-19\", \"COVID-19\", \"COVID-19\", \"Pneumonia\", \"Pneumonia\", \"Pneumonia\",\n",
    "                                   \"Influenza\", \"Influenza\", \"Influenza\"]\n",
    "yearly_deaths_df[\"Total Deaths (by thousands)\"] = \"\"\n",
    "for x in range(len(covid)):\n",
    "    yearly_deaths_df.iloc[x, 2] = covid[x]\n",
    "    yearly_deaths_df.iloc[x + 3, 2] = pneumonia[x]\n",
    "    yearly_deaths_df.iloc[x + 6, 2] = influenza[x]"
   ]
  },
  {
   "cell_type": "code",
   "execution_count": null,
   "id": "24004b68",
   "metadata": {},
   "outputs": [],
   "source": [
    "x_values = [\"2020\", \"2021\", \"2022\"]\n",
    "y_covid = yearly_deaths_df.loc[yearly_deaths_df[\"Disease Type\"] == \"COVID-19\", :]\n",
    "y_pneumonia = yearly_deaths_df.loc[yearly_deaths_df[\"Disease Type\"] == \"Pneumonia\", :]\n",
    "y_influenza = yearly_deaths_df.loc[yearly_deaths_df[\"Disease Type\"] == \"Influenza\", :]\n",
    "covid_handle, = plt.plot(x_values, y_covid[\"Total Deaths (by thousands)\"], marker = 'o', label = \"COVID-19\")\n",
    "pneumonia_handle, = plt.plot(x_values, y_pneumonia[\"Total Deaths (by thousands)\"],  marker = 'o', \n",
    "                             label = \"Pneumonia\")\n",
    "influenza_handle, = plt.plot(x_values, y_influenza[\"Total Deaths (by thousands)\"],  marker = 'o',\n",
    "                            label = \"Influenza\")\n",
    "plt.title(\"Total Deaths by Year\")\n",
    "plt.xlabel(\"Year\")\n",
    "plt.ylabel(\"Total Deaths (by thousands)\")\n",
    "plt.legend()\n",
    "plt.savefig(\"Resources/Images/TotalDeathsByYear.png\")\n",
    "plt.show()\n",
    "\n",
    "#This graph shows that COVID-19 and Pneumonia deaths dropped significantly in 2022 and the \n",
    "#number of Influenza deaths has stayed steady"
   ]
  },
  {
   "cell_type": "code",
   "execution_count": null,
   "id": "b5302d4c",
   "metadata": {},
   "outputs": [],
   "source": [
    "age_groups = total_df[\"Age Group\"].unique()\n",
    "covid_age = []\n",
    "pneumonia_age = []\n",
    "influenza_age = []\n",
    "age_deaths_df = pd.DataFrame(index = range(0, 36))\n",
    "age_deaths_df[\"Age Group\"] = \"\"\n",
    "age_deaths_df[\"Disease Type\"] = \"\"\n",
    "age_deaths_df[\"Total Deaths (by thousands)\"] = \"\"\n",
    "for age in range(len(age_groups)):\n",
    "    deaths_age = total_df.loc[(total_df[\"State\"] == \"United States\") &\n",
    "                    (total_df[\"Sex\"] == \"All Sexes\") & (total_df[\"Age Group\"] == age_groups[age])]\n",
    "    covid_age.append(deaths_age[\"COVID-19 Deaths\"] / 1000)\n",
    "    pneumonia_age.append(deaths_age[\"Pneumonia Deaths\"] / 1000)\n",
    "    influenza_age.append(deaths_age[\"Influenza Deaths\"] / 1000)\n",
    "    age_deaths_df.iloc[range(age * 3, (age*3)+3), 0] = age_groups[age]\n",
    "    age_deaths_df.iloc[age * 3, 1] = \"COVID-19\"\n",
    "    age_deaths_df.iloc[(age*3)+1, 1] =  \"Pneumonia\"\n",
    "    age_deaths_df.iloc[(age*3)+2, 1] =  \"Influenza\"\n",
    "    age_deaths_df.iloc[age * 3, 2] = deaths_age[\"COVID-19 Deaths\"] / 1000\n",
    "    age_deaths_df.iloc[(age*3)+1, 2] = deaths_age[\"Pneumonia Deaths\"] / 1000\n",
    "    age_deaths_df.iloc[(age*3)+2, 2] = deaths_age[\"Influenza Deaths\"] / 1000\n",
    "age_deaths_df = age_deaths_df.loc[age_deaths_df[\"Age Group\"] != \"All Ages\"]\n",
    "covid_age_deaths_df = age_deaths_df.loc[age_deaths_df[\"Disease Type\"] == \"COVID-19\"]"
   ]
  },
  {
   "cell_type": "code",
   "execution_count": null,
   "id": "4b0ce686",
   "metadata": {},
   "outputs": [],
   "source": [
    "f, ax = plt.subplots(figsize = (15,12))\n",
    "ax = sns.barplot(data = age_deaths_df, x=\"Age Group\", y = \"Total Deaths (by thousands)\", \n",
    "                 hue = \"Disease Type\", ci=None, palette=\"rocket\")\n",
    "ax.set_xticklabels(age_groups[1:12], rotation=35)\n",
    "ax.set_title(\"Total Deaths by Age Group\")\n",
    "plt.legend(loc=\"upper center\")\n",
    "plt.savefig(\"Resources/Images/TotalDeathsByAge.png\")\n",
    "plt.show()\n",
    "\n",
    "#This graph shows that deaths caused by these diseases occured mostly in people who were 45+ years old "
   ]
  },
  {
   "cell_type": "code",
   "execution_count": null,
   "id": "436d2d9e",
   "metadata": {},
   "outputs": [],
   "source": [
    "f, ax = plt.subplots(figsize = (15,12))\n",
    "ax = sns.barplot(data = covid_age_deaths_df, x=\"Age Group\", y = \"Total Deaths (by thousands)\", \n",
    "                  ci=None, palette=\"rocket\")\n",
    "ax.set_xticklabels(age_groups[1:12], rotation=35)\n",
    "ax.set_title(\"COVID-19 Deaths by Age Group\")\n",
    "plt.savefig(\"Resources/Images/TotalDeathsByAge.png\")\n",
    "plt.show()\n",
    "\n",
    "#This graph shows that deaths caused by these diseases occured mostly in people who were 45+ years old "
   ]
  },
  {
   "cell_type": "code",
   "execution_count": null,
   "id": "f41baf47",
   "metadata": {},
   "outputs": [],
   "source": [
    "covid_age_deaths_df = age_deaths_df.loc[age_deaths_df[\"Disease Type\"] == \"COVID-19\"]\n",
    "covid_age_deaths_df[\"Age\"] = range(1,12)\n",
    "covid_age_deaths_df['Total Deaths (by thousands)'] = covid_age_deaths_df['Total Deaths (by thousands)'].astype('int64')"
   ]
  },
  {
   "cell_type": "code",
   "execution_count": null,
   "id": "dd308a63",
   "metadata": {},
   "outputs": [],
   "source": [
    "(slope, intercept, rvalue, pvalue, stderr) = linregress((covid_age_deaths_df[\"Age\"]).astype(float), \n",
    "                                                        covid_age_deaths_df[\"Total Deaths (by thousands)\"])\n",
    "regress_values = covid_age_deaths_df[\"Age\"] * slope + intercept\n",
    "line_eq = \"y = \" + str(round(slope,2)) + \"x + \" + str(round(intercept,2))\n",
    "\n",
    "plt.figure(figsize=(10,10))\n",
    "plt.plot(covid_age_deaths_df[\"Age\"],regress_values,\"r-\")\n",
    "plt.annotate(line_eq,(200, 50),fontsize=15,color=\"red\")\n",
    "\n",
    "unique, index = np.unique(age_groups[1:12], return_index=True)\n",
    "plt.scatter(covid_age_deaths_df[\"Age\"], covid_age_deaths_df[\"Total Deaths (by thousands)\"])\n",
    "plt.title(\"Age vs COVID-19 Deaths\")\n",
    "plt.xlabel(\"Age\")\n",
    "plt.ylabel(\"Total Deaths (by thousands)\")\n",
    "plt.xticks(range(1, len(unique) + 1), unique[index.argsort()], rotation = 35)\n",
    "print(f\"The r-value is: {rvalue**2}\")\n",
    "plt.savefig(\"Resources/Images/AgeVsDeaths.png\")\n",
    "plt.show()\n",
    "\n",
    "#There is a strong correlation between age and number of deaths related to COVID-19, Pneumonia, and Influenza."
   ]
  },
  {
   "cell_type": "code",
   "execution_count": null,
   "id": "d089c626",
   "metadata": {},
   "outputs": [],
   "source": [
    "death = total_df.loc[(total_df[\"Sex\"] == \"All Sexes\") & (total_df[\"State\"] == \"United States\"), :]\n",
    "death_covid = death.loc[death[\"Age Group\"] == \"All Ages\", :]\n",
    "sum_death_covid = death_covid[\"COVID-19 Deaths\"].sum()\n",
    "sum_death_covid"
   ]
  },
  {
   "cell_type": "code",
   "execution_count": null,
   "id": "b512dc1f",
   "metadata": {},
   "outputs": [],
   "source": [
    "total_death = total_df.loc[(total_df[\"Sex\"] == \"All Sexes\") & (total_df[\"State\"] == \"United States\"), :]\n",
    "total_death_covid = total_death.loc[death[\"Age Group\"] == \"All Ages\", :]\n",
    "sum_death = total_death_covid[\"Total Deaths\"].sum()\n",
    "sum_death = total_deaths_df[\"Total Deaths (by thousands)\"].sum() * 1000\n",
    "sum_death"
   ]
  },
  {
   "cell_type": "code",
   "execution_count": null,
   "id": "7c7f0cb1",
   "metadata": {},
   "outputs": [],
   "source": [
    "covidPerc = round(sum_death_covid/sum_death * 100, 2)\n",
    "otherPerc = round((sum_death - sum_death_covid)/sum_death * 100, 2)\n",
    "\n",
    "labels = [\"COVID-19 Deaths\", \"Pneumonia & Influenza Deaths\"]\n",
    "colors = [\"lightcoral\", \"lightskyblue\"]\n",
    "sizes = [52.87, 47.13]\n",
    "explode = (0.1, 0)\n",
    "\n",
    "plt.pie(sizes, explode=explode, labels=labels, colors=colors,\n",
    "        autopct=\"%1.1f%%\", shadow=True, startangle=140)\n",
    "plt.title(\"Percentage of COVID-19 Deaths\")\n",
    "plt.axis(\"equal\")\n",
    "plt.savefig(\"Resources/Images/PercentageCOVID19Deaths.png\")\n",
    "plt.show()"
   ]
  },
  {
   "cell_type": "code",
   "execution_count": null,
   "id": "020c5c2f",
   "metadata": {},
   "outputs": [],
   "source": [
    "covid_death_by_month = month_df.loc[:, [\"Year\", \"Month\", \"COVID-19 Deaths\"]]\n",
    "\n",
    "covid_death_by_month = covid_death_by_month.set_index(\"Month\")\n",
    "covid_death_by_month\n"
   ]
  },
  {
   "cell_type": "code",
   "execution_count": null,
   "id": "930933bd",
   "metadata": {},
   "outputs": [],
   "source": [
    "covid_death_by_year = month_df.loc[:, [\"Year\", \"COVID-19 Deaths\"]]\n",
    "covid_death_by_year = covid_death_by_year.groupby(\"Year\").sum() / 1000\n",
    "covid_death_by_year"
   ]
  },
  {
   "cell_type": "code",
   "execution_count": null,
   "id": "718e6942",
   "metadata": {},
   "outputs": [],
   "source": [
    "covid_death_by_year.plot(kind = \"bar\", rot=0, color = \"salmon\", figsize = (10,10))\n",
    "plt.ylabel(\"Number of Deaths (by thousands)\")\n",
    "plt.title(\"Number of COVID-19 Deaths from 2020-2022\")\n",
    "plt.savefig(\"Resources/Images/COVIDdeaths.png\")\n",
    "plt.show()"
   ]
  },
  {
   "cell_type": "code",
   "execution_count": null,
   "id": "c591d235",
   "metadata": {},
   "outputs": [],
   "source": [
    "flu_death_by_year = month_df.loc[:, [\"Year\", \"Influenza Deaths\"]]\n",
    "flu_death_by_year = flu_death_by_year.groupby(\"Year\").sum()\n",
    "flu_death_by_year"
   ]
  },
  {
   "cell_type": "code",
   "execution_count": null,
   "id": "4a2230f1",
   "metadata": {},
   "outputs": [],
   "source": [
    "flu_death_by_year.plot(kind = \"bar\", rot=0, color = \"salmon\", figsize = (10,10))\n",
    "plt.ylabel(\"Number of deaths\")\n",
    "plt.title(\"Number of Flu Deaths from 2020-2022\")\n",
    "plt.ylim(0, 3500000)\n",
    "plt.savefig(\"Resources/Images/Fludeaths.png\")\n",
    "plt.tight_layout()\n",
    "plt.show()"
   ]
  },
  {
   "cell_type": "code",
   "execution_count": null,
   "id": "bd0c2b09",
   "metadata": {},
   "outputs": [],
   "source": [
    "pna_death_by_year = month_df.loc[:, [\"Year\", \"Pneumonia Deaths\"]]\n",
    "pna_death_by_year = pna_death_by_year.groupby(\"Year\").sum() /1000\n",
    "pna_death_by_year"
   ]
  },
  {
   "cell_type": "code",
   "execution_count": null,
   "id": "8a3ee585",
   "metadata": {},
   "outputs": [],
   "source": [
    "pna_death_by_year.plot(kind = \"bar\", rot=0, color = \"salmon\", figsize = (10,10))\n",
    "plt.ylabel(\"Number of deaths (by thousands)\")\n",
    "plt.title(\"Number of Pneumonia Deaths from 2020-2022\")\n",
    "plt.savefig(\"Resources/Images/PNAdeaths.png\")\n",
    "plt.show()"
   ]
  },
  {
   "cell_type": "code",
   "execution_count": null,
   "id": "fb516a93",
   "metadata": {
    "scrolled": true
   },
   "outputs": [],
   "source": [
    "states_df = year_df.loc[(health_df[\"State\"] != \"United States\"), :]\n",
    "states_df = states_df.groupby([\"State\"])[\"COVID-19 Deaths\"].sum()\n",
    "states_df = states_df.sort_values(ascending = True)\n",
    "states_df.plot(kind=\"barh\", figsize = (10,10))\n",
    "plt.title(\"Total COVID-19 Deaths by State\")\n",
    "plt.xlabel(\"Number of COVID-19 Deaths\")\n",
    "plt.savefig(\"Resources/Images/COVIDdeathbyState.png\")\n",
    "plt.show()"
   ]
  },
  {
   "cell_type": "code",
   "execution_count": null,
   "id": "e69a2160",
   "metadata": {},
   "outputs": [],
   "source": [
    "#Covid vs PNA deaths\n",
    "plt.scatter(year_df['COVID-19 Deaths'],year_df['Pneumonia Deaths'], c=year_df['Year'])\n",
    "clb = plt.colorbar()\n",
    "plt.xlabel(\"COVID-19 Deaths\")\n",
    "plt.ylabel(\"Pneumonia Deaths\")\n",
    "plt.title(\"COVID vs. Pneumonia Deaths from 2020-2022\")\n",
    "clb.set_label(\"Year\")\n",
    "plt.savefig(\"Resources/Images/ScatterPNAvsCOVID.png\")\n",
    "plt.show()\n"
   ]
  },
  {
   "cell_type": "code",
   "execution_count": null,
   "id": "fdf3e621",
   "metadata": {},
   "outputs": [],
   "source": [
    "#Covid vs flu deaths\n",
    "plt.scatter(year_df['COVID-19 Deaths'],year_df['Influenza Deaths'], c=year_df['Year'])\n",
    "clb = plt.colorbar()\n",
    "plt.xlabel(\"COVID-19 Deaths\")\n",
    "plt.ylabel(\"Influenza Deaths\")\n",
    "plt.title(\"COVID vs. Influenza Deaths from 2020-2022\")\n",
    "clb.set_label(\"Year\")\n",
    "plt.savefig(\"Resources/Images/ScatterFluvsCOVID.png\")\n",
    "plt.show()"
   ]
  },
  {
   "cell_type": "code",
   "execution_count": null,
   "id": "613dadfb",
   "metadata": {},
   "outputs": [],
   "source": [
    "#Covid vs Total deaths\n",
    "plt.scatter(year_df['COVID-19 Deaths'],year_df['Total Deaths'], c=year_df['Year'])\n",
    "clb = plt.colorbar()\n",
    "plt.xlabel(\"COVID-19 Deaths\")\n",
    "plt.ylabel(\"Total Deaths (Millions)\")\n",
    "plt.title(\"COVID vs. Total Deaths from 2020-2022\")\n",
    "clb.set_label(\"Year\")\n",
    "plt.savefig(\"Resources/Images/ScatterTotalvsCOVID.png\")\n",
    "plt.show()"
   ]
  },
  {
   "cell_type": "code",
   "execution_count": null,
   "id": "461150db",
   "metadata": {},
   "outputs": [],
   "source": [
    "new_month_df = month_df.dropna()\n",
    "subset = new_month_df.sample(3000, random_state = 42)\n",
    "sample = new_month_df.sample(3000)\n",
    "print(f\"The SEM value for the sample COVID-19 Deaths is {sem(sample['COVID-19 Deaths'])}\")\n",
    "\n",
    "\n",
    "covid_sample_set = [new_month_df.sample(3000) for x in range(0,35)]\n",
    "means = [sample['COVID-19 Deaths'].mean() for sample in covid_sample_set]\n",
    "standard_errors = [sem(sample['COVID-19 Deaths']) for sample in covid_sample_set]\n",
    "x_axis = np.arange(0, len(covid_sample_set), 1) + 1\n",
    "\n",
    "fig, ax = plt.subplots()\n",
    "ax.errorbar(x_axis, means, standard_errors, fmt=\"o\")\n",
    "ax.set_xlim(0, len(covid_sample_set) + 1)\n",
    "\n",
    "ax.set_xlabel(\"Sample Number\")\n",
    "ax.set_ylabel(\"Mean COVID-19 Deaths\")\n",
    "plt.show()\n",
    "plt.savefig(\"Resources/Images/SEMCOVID.png\")"
   ]
  },
  {
   "cell_type": "code",
   "execution_count": null,
   "id": "0982a16d",
   "metadata": {},
   "outputs": [],
   "source": [
    "new_month_df = month_df.dropna()\n",
    "subset = new_month_df.sample(3000, random_state = 42)\n",
    "sample = new_month_df.sample(3000)\n",
    "print(f\"The SEM value for the sample Pneumonia Deaths is {sem(sample['Pneumonia Deaths'])}\")\n",
    "\n",
    "covid_sample_set = [new_month_df.sample(3000) for x in range(0,35)]\n",
    "means = [sample['Pneumonia Deaths'].mean() for sample in covid_sample_set]\n",
    "standard_errors = [sem(sample['Pneumonia Deaths']) for sample in covid_sample_set]\n",
    "x_axis = np.arange(0, len(covid_sample_set), 1) + 1\n",
    "\n",
    "fig, ax = plt.subplots()\n",
    "ax.errorbar(x_axis, means, standard_errors, fmt=\"o\")\n",
    "ax.set_xlim(0, len(covid_sample_set) + 1)\n",
    "\n",
    "ax.set_xlabel(\"Sample Number\")\n",
    "ax.set_ylabel(\"Mean Pneumonia Deaths\")\n",
    "plt.savefig(\"Resources/Images/SEMPNA.png\")\n",
    "plt.show()"
   ]
  },
  {
   "cell_type": "code",
   "execution_count": null,
   "id": "907d701c",
   "metadata": {},
   "outputs": [],
   "source": [
    "new_month_df = month_df.dropna()\n",
    "subset = new_month_df.sample(3000, random_state = 42)\n",
    "sample = new_month_df.sample(3000)\n",
    "print(f\"The SEM value for the sample Influenza Deaths is {sem(sample['Influenza Deaths'])}\")\n",
    "\n",
    "covid_sample_set = [new_month_df.sample(3000) for x in range(0,35)]\n",
    "means = [sample['Influenza Deaths'].mean() for sample in covid_sample_set]\n",
    "standard_errors = [sem(sample['Influenza Deaths']) for sample in covid_sample_set]\n",
    "x_axis = np.arange(0, len(covid_sample_set), 1) + 1\n",
    "\n",
    "fig, ax = plt.subplots()\n",
    "ax.errorbar(x_axis, means, standard_errors, fmt=\"o\")\n",
    "ax.set_xlim(0, len(covid_sample_set) + 1)\n",
    "\n",
    "ax.set_xlabel(\"Sample Number\")\n",
    "ax.set_ylabel(\"Mean Pneumonia Deaths\")\n",
    "plt.savefig(\"Resources/Images/SEMFlu.png\")\n",
    "plt.show()"
   ]
  },
  {
   "cell_type": "code",
   "execution_count": null,
   "id": "04d2222c",
   "metadata": {
    "scrolled": true
   },
   "outputs": [],
   "source": [
    "#Flu deaths by state/age\n",
    "year_df[\"State\"].unique()\n",
    "year_df[\"Age Group\"].unique()\n",
    "x=year_df.groupby([\"State\",\"Age Group\"])[\"Influenza Deaths\"].count().reset_index()\n",
    "\n",
    "x"
   ]
  },
  {
   "cell_type": "code",
   "execution_count": null,
   "id": "c68c7b9a",
   "metadata": {},
   "outputs": [],
   "source": [
    "#2021 dataset\n",
    "df_2021 = month_df[month_df.Year == 2021.0]\n",
    "df_2021.head()"
   ]
  },
  {
   "cell_type": "code",
   "execution_count": null,
   "id": "1eba6c02",
   "metadata": {},
   "outputs": [],
   "source": [
    "#influenza deaths in 2021\n",
    "year_df[\"State\"].unique()\n",
    "year_df[\"Age Group\"].unique()\n",
    "i=df_2021.groupby([\"State\"])[\"Influenza Deaths\"].sum().reset_index()\n",
    "i.drop(i[i['State'] == \"United States\"].index, inplace = True)\n",
    "i.sort_values('Influenza Deaths', ascending=True).plot.barh(x='State', title='Number of Influenza Deaths by State in 2021'\n",
    "                                                            ,figsize=(17, 10))\n",
    "plt.savefig(\"Resources/Images/InfluenzdeathsByState.png\")"
   ]
  },
  {
   "cell_type": "code",
   "execution_count": null,
   "id": "2d95c6a5",
   "metadata": {},
   "outputs": [],
   "source": [
    "#Pneumonia Deaths in 2021\n",
    "i=df_2021.groupby([\"State\"])[\"Pneumonia Deaths\"].sum().reset_index()\n",
    "i.drop(i[i['State'] == \"United States\"].index, inplace = True)\n",
    "i.sort_values('Pneumonia Deaths', ascending=True).plot.barh(x='State', title='Number of Pneumonia Deaths by State in 2021'\n",
    "                                                            ,figsize=(17, 10))\n",
    "plt.savefig(\"Resources/Images/PneumoniadeathsByState.png\")"
   ]
  },
  {
   "cell_type": "code",
   "execution_count": null,
   "id": "07ad9c50",
   "metadata": {},
   "outputs": [],
   "source": [
    "#Which months have the most deaths for Covid\n",
    "month_df\n",
    "month_df.head()\n",
    "\n",
    "y=month_df.groupby(\"Month\")[\"COVID-19 Deaths\"].count().reset_index()\n",
    "y\n",
    "#covid deaths by month\n",
    "y.plot.bar(x=\"Month\", title='Number of Covid Deaths by Month',ylabel=\"Number of Deaths\")\n"
   ]
  },
  {
   "cell_type": "code",
   "execution_count": null,
   "id": "9afb6aa8",
   "metadata": {},
   "outputs": [],
   "source": [
    "#creating bins for the seasons\n",
    "bins=[0.0,4.0,7.0,10.0,12.0]\n",
    "labels=[\"Winter\",\"Spring\",\"Summer\",\"Fall\"]\n",
    "df_2021['Season'] = pd.cut(df_2021['Month'], bins=bins, labels=labels)"
   ]
  },
  {
   "cell_type": "code",
   "execution_count": null,
   "id": "59ec684b",
   "metadata": {},
   "outputs": [],
   "source": [
    "df_2021.head()"
   ]
  },
  {
   "cell_type": "code",
   "execution_count": null,
   "id": "497a0c15",
   "metadata": {},
   "outputs": [],
   "source": [
    "df_binned_season=df_2021.groupby(\"Season\")[\"COVID-19 Deaths\"].sum().reset_index()\n",
    "df_binned_season[\"COVID-19 Deaths (by thousands)\"] = df_binned_season[\"COVID-19 Deaths\"] / 1000\n",
    "df_binned_season"
   ]
  },
  {
   "cell_type": "code",
   "execution_count": null,
   "id": "34537d14",
   "metadata": {},
   "outputs": [],
   "source": [
    "#binning per season\n",
    "#Jan-March:Winter April-June:Spring July-September:Summer October-Decemeber:Fall\n",
    "\n",
    "\n",
    "sns.barplot(x = 'Season', y = 'COVID-19 Deaths (by thousands)', data = df_binned_season ,\n",
    "            palette=\"hls\").set(title='COVID-19 Deaths per Season (2021)')\n",
    "plt.savefig(\"Resources/Images/CovidDeathsperSeason.png\")\n",
    "\n"
   ]
  },
  {
   "cell_type": "code",
   "execution_count": null,
   "id": "c5e5a29d",
   "metadata": {},
   "outputs": [],
   "source": [
    "\n",
    "year_df.replace([np.inf, -np.inf], np.nan, inplace=True)\n",
    "year_df.dropna(subset=[\"Pneumonia Deaths\", \"COVID-19 Deaths\"], how=\"all\", inplace = True)\n",
    "year_df['COVID-19 Deaths'].value_counts()\n",
    "plt.scatter(year_df['Pneumonia Deaths'], year_df['COVID-19 Deaths'])\n",
    "plt.title('Correlation of Pneumonia and COVID-19 Deaths, Years 2020-2022')\n",
    "plt.xlabel('Pneumonia Deaths')\n",
    "plt.ylabel('COVID-19 Deaths')\n",
    "plt.savefig('Resources/Images/pneumonia_covid_corr.png')\n",
    "correlationpneumonia = year_df['Pneumonia Deaths'].corr(year_df['COVID-19 Deaths'])\n",
    "print('Correlation Coefficient of Pneumonia and COVID-19 Deaths is ' + str(round(correlationpneumonia, 4)))\n",
    "\n",
    "\n"
   ]
  },
  {
   "cell_type": "code",
   "execution_count": null,
   "id": "417cf30a",
   "metadata": {},
   "outputs": [],
   "source": [
    "year_df.replace([np.inf, -np.inf], np.nan, inplace=True)\n",
    "year_df.dropna(subset=[\"Influenza Deaths\", \"COVID-19 Deaths\"], how=\"all\")\n",
    "plt.scatter(year_df['Influenza Deaths'], year_df['COVID-19 Deaths'])\n",
    "plt.title('Correlation of Influenza and COVID-19 Deaths, Years 2020-2022')\n",
    "plt.xlabel('Influenza Deaths')\n",
    "plt.ylabel('COVID-19 Deaths')\n",
    "plt.savefig('Resources/Images/influenza_covid_corr.png')\n",
    "correlationflu = year_df['Influenza Deaths'].corr(year_df['COVID-19 Deaths'])\n",
    "print('Correlation Coefficient of Influenza and COVID-19 Deaths is ' + str(round(correlationflu, 4)))\n"
   ]
  },
  {
   "cell_type": "code",
   "execution_count": null,
   "id": "a4845d1f",
   "metadata": {},
   "outputs": [],
   "source": []
  }
 ],
 "metadata": {
  "kernelspec": {
   "display_name": "Python [conda env:PythonData38] *",
   "language": "python",
   "name": "conda-env-PythonData38-py"
  },
  "language_info": {
   "codemirror_mode": {
    "name": "ipython",
    "version": 3
   },
   "file_extension": ".py",
   "mimetype": "text/x-python",
   "name": "python",
   "nbconvert_exporter": "python",
   "pygments_lexer": "ipython3",
   "version": "3.8.12"
  }
 },
 "nbformat": 4,
 "nbformat_minor": 5
}
