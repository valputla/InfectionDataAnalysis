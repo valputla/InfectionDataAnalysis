{
 "cells": [
  {
   "cell_type": "code",
   "execution_count": null,
   "metadata": {
    "scrolled": true
   },
   "outputs": [],
   "source": [
    "#Flu deaths by state/age\n",
    "year_df[\"State\"].unique()\n",
    "year_df[\"Age Group\"].unique()\n",
    "x=year_df.groupby([\"State\",\"Age Group\"])[\"Influenza Deaths\"].count().reset_index()\n",
    "\n",
    "x"
   ]
  },
  {
   "cell_type": "code",
   "execution_count": null,
   "metadata": {},
   "outputs": [],
   "source": [
    "#2021 dataset\n",
    "df_2021 = month_df[month_df.Year == 2021.0]\n",
    "df_2021.head()"
   ]
  },
  {
   "cell_type": "code",
   "execution_count": null,
   "metadata": {},
   "outputs": [],
   "source": [
    "#influenza deaths in 2021\n",
    "year_df[\"State\"].unique()\n",
    "year_df[\"Age Group\"].unique()\n",
    "i=df_2021.groupby([\"State\"])[\"Influenza Deaths\"].count().reset_index()\n",
    "i.drop(i[i['State'] == \"United States\"].index, inplace = True)\n",
    "i.sort_values('Influenza Deaths', ascending=True).plot.barh(x='State', title='Number of Influenza Deaths by State in 2021'\n",
    "                                                            ,figsize=(17, 10))\n",
    "plt.savefig(\"Resources/Images/InfluenzdeathsByState.png\")"
   ]
  },
  {
   "cell_type": "code",
   "execution_count": null,
   "metadata": {},
   "outputs": [],
   "source": [
    "#Pneumonia Deaths in 2021\n",
    "i=df_2021.groupby([\"State\"])[\"Pneumonia Deaths\"].count().reset_index()\n",
    "i.drop(i[i['State'] == \"United States\"].index, inplace = True)\n",
    "i.sort_values('Pneumonia Deaths', ascending=True).plot.barh(x='State', title='Number of Pneumonia Deaths by State in 2021'\n",
    "                                                            ,figsize=(17, 10))\n",
    "plt.savefig(\"Resources/Images/PneumoniadeathsByState.png\")"
   ]
  },
  {
   "cell_type": "code",
   "execution_count": null,
   "metadata": {},
   "outputs": [],
   "source": [
    "#Which months have the most deaths for Covid\n",
    "month_df\n",
    "month_df.head()\n",
    "\n",
    "y=month_df.groupby(\"Month\")[\"COVID-19 Deaths\"].count().reset_index()\n",
    "y\n",
    "#covid deaths by month\n",
    "y.plot.bar(x=\"Month\", title='Number of Covid Deaths by Month',ylabel=\"Number of Deaths\")\n"
   ]
  },
  {
   "cell_type": "code",
   "execution_count": null,
   "metadata": {},
   "outputs": [],
   "source": [
    "#creating bins for the seasons\n",
    "bins=[0.0,4.0,7.0,10.0,12.0]\n",
    "labels=[\"Winter\",\"Spring\",\"Summer\",\"Fall\"]\n",
    "df_2021['Season'] = pd.cut(df_2021['Month'], bins=bins, labels=labels)"
   ]
  },
  {
   "cell_type": "code",
   "execution_count": null,
   "metadata": {},
   "outputs": [],
   "source": [
    "df_2021.head()"
   ]
  },
  {
   "cell_type": "code",
   "execution_count": null,
   "metadata": {},
   "outputs": [],
   "source": [
    "df_binned_season=df_2021.groupby(\"Season\")[\"COVID-19 Deaths\"].count().reset_index()\n",
    "df_binned_season"
   ]
  },
  {
   "cell_type": "code",
   "execution_count": null,
   "metadata": {},
   "outputs": [],
   "source": [
    "#binning per season\n",
    "#Jan-March:Winter April-June:Spring July-September:Summer October-Decemeber:Fall\n",
    "\n",
    "\n",
    "sns.barplot(x = 'Season', y = 'COVID-19 Deaths', data = df_binned_season ,\n",
    "            palette=\"hls\").set(title='COVID-19 Deaths per Season (2021)')\n",
    "plt.savefig(\"Resources/Images/CovidDeathsperSeason.png\")\n",
    "\n"
   ]
  },
  {
   "cell_type": "code",
   "execution_count": null,
   "metadata": {},
   "outputs": [],
   "source": [
    "#Correlation Graph\n",
    "#getting some errors so still working on it\n",
    "#correlation = st.pearsonr(month_df[\"Month\"],month_df[\"COVID-19 Deaths\"])\n",
    "fig1, ax1 = plt.subplots(figsize=(8, 5))\n",
    "sns.scatterplot(x = \"Month\",\n",
    "            y = \"COVID-19 Deaths\", \n",
    "            data = month_df)\n",
    "#print(f\"The correlation between Months and the COVID-19-Deaths is {round(correlation[0],2)}\")\n"
   ]
  }
 ],
 "metadata": {
  "kernelspec": {
   "display_name": "Python [conda env:PythonData38] *",
   "language": "python",
   "name": "conda-env-PythonData38-py"
  },
  "language_info": {
   "codemirror_mode": {
    "name": "ipython",
    "version": 3
   },
   "file_extension": ".py",
   "mimetype": "text/x-python",
   "name": "python",
   "nbconvert_exporter": "python",
   "pygments_lexer": "ipython3",
   "version": "3.8.12"
  }
 },
 "nbformat": 4,
 "nbformat_minor": 5
}
