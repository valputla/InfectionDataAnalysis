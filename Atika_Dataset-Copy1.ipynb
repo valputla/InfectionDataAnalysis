{
 "cells": [
  {
   "cell_type": "code",
   "execution_count": null,
   "metadata": {},
   "outputs": [],
   "source": [
    "import matplotlib.pyplot as plt\n",
    "import pandas as pd\n",
    "import seaborn as sns\n",
    "import numpy as np\n",
    "import scipy.stats as st"
   ]
  },
  {
   "cell_type": "code",
   "execution_count": null,
   "metadata": {},
   "outputs": [],
   "source": [
    "#This is the full data frame with some extra columns removed\n",
    "health_df = pd.read_csv(\"Resources/Provisional_COVID-19_Deaths_by_Sex_and_Age.csv\")\n",
    "health_df = health_df.drop(columns = [\"Data As Of\", \"Start Date\", \"End Date\", \"Footnote\"])\n",
    "health_df.head()"
   ]
  },
  {
   "cell_type": "code",
   "execution_count": null,
   "metadata": {},
   "outputs": [],
   "source": [
    "#I have removed some random age groups\n",
    "age_adjusted_df = health_df.loc[(health_df[\"Age Group\"] != \"40-49 years\") &\n",
    "                                (health_df[\"Age Group\"] != \"30-39 years\") &\n",
    "                                (health_df[\"Age Group\"] != \"18-29 years\") &\n",
    "                                (health_df[\"Age Group\"] != \"0-17 years\") &\n",
    "                                (health_df[\"Age Group\"] != \"50-64 years\"), :]"
   ]
  },
  {
   "cell_type": "code",
   "execution_count": null,
   "metadata": {},
   "outputs": [],
   "source": [
    "#This data frame shows deaths regardless of Year and Month\n",
    "#This data frame can be sorted by State, Sex, and Age Group\n",
    "#State: You can choose any of the 50 states, Puerto Rico, or the United States as a whole\n",
    "#Sex: Male, Female, All Sexes\n",
    "#Age Group:\n",
    "    #All ages\n",
    "    #Under 1 year\n",
    "    #1-4 years old\n",
    "    #5-14 years old\n",
    "    #15-24 years old\n",
    "    #25-34 years old\n",
    "    #35-44 years old\n",
    "    #45-54 years old\n",
    "    #55-64 years old\n",
    "    #65-74 years old\n",
    "    #75-84 years old\n",
    "    #85 years and over\n",
    "total_df = age_adjusted_df.loc[health_df[\"Group\"] == \"By Total\", :]\n",
    "total_df = total_df.drop(columns = [\"Year\", \"Month\", \"Group\"])\n",
    "total_df.head()"
   ]
  },
  {
   "cell_type": "code",
   "execution_count": null,
   "metadata": {},
   "outputs": [],
   "source": [
    "#This data frame shows deaths by year, regardless of Month.\n",
    "#You can pick 2020, 2021, or 2022\n",
    "#This data frame can be sorted by State, Sex, and Age Group\n",
    "#State: You can choose any of the 50 states, Puerto Rico, or the United States as a whole\n",
    "#Sex: Male, Female, All Sexes\n",
    "#Age Group:\n",
    "    #All ages\n",
    "    #Under 1 year\n",
    "    #1-4 years old\n",
    "    #5-14 years old\n",
    "    #15-24 years old\n",
    "    #25-34 years old\n",
    "    #35-44 years old\n",
    "    #45-54 years old\n",
    "    #55-64 years old\n",
    "    #65-74 years old\n",
    "    #75-84 years old\n",
    "    #85 years and over\n",
    "year_df = age_adjusted_df.loc[health_df[\"Group\"] == \"By Year\", :]\n",
    "year_df = year_df.drop(columns = [\"Month\", \"Group\"])\n",
    "year_df.head()"
   ]
  },
  {
   "cell_type": "code",
   "execution_count": null,
   "metadata": {},
   "outputs": [],
   "source": [
    "#This data frame shows deaths by Month.\n",
    "#You can pick any month numerically (ex. January = 1.0)\n",
    "#This data frame can be sorted by Year, State, Sex, and Age Group\n",
    "#Year: You can pick 2020, 2021, or 2022\n",
    "#State: You can choose any of the 50 states, Puerto Rico, or the United States as a whole\n",
    "#Sex: Male, Female, All Sexes\n",
    "#Age Group:\n",
    "    #All ages\n",
    "    #Under 1 year\n",
    "    #1-4 years old\n",
    "    #5-14 years old\n",
    "    #15-24 years old\n",
    "    #25-34 years old\n",
    "    #35-44 years old\n",
    "    #45-54 years old\n",
    "    #55-64 years old\n",
    "    #65-74 years old\n",
    "    #75-84 years old\n",
    "    #85 years and over\n",
    "month_df = age_adjusted_df.loc[health_df[\"Group\"] == \"By Month\", :]\n",
    "month_df = month_df.drop(columns = \"Group\")\n",
    "month_df.head()"
   ]
  },
  {
   "cell_type": "code",
   "execution_count": null,
   "metadata": {
    "scrolled": true
   },
   "outputs": [],
   "source": [
    "#Flu deaths by state/age\n",
    "year_df[\"State\"].unique()\n",
    "year_df[\"Age Group\"].unique()\n",
    "x=year_df.groupby([\"State\",\"Age Group\"])[\"Influenza Deaths\"].count().reset_index()\n",
    "\n",
    "x"
   ]
  },
  {
   "cell_type": "code",
   "execution_count": null,
   "metadata": {},
   "outputs": [],
   "source": [
    "#This graphs has a lot of colors going on but wanted to look at age and deaths simultaneously\n",
    "#color scheme is a bit crazy\n",
    "\n",
    "x=year_df.groupby([\"State\",\"Age Group\"])[\"Influenza Deaths\"].count().reset_index()\n",
    "x.drop(x[x['Age Group'] == \"All Ages\"].index, inplace = True)\n",
    "dfp = x.pivot(index='State', columns='Age Group', values='Influenza Deaths')\n",
    "plt.savefig(\"Resources/Images/COVIDdeathsYear&Gender.png\")\n",
    "dfp.plot.bar(stacked=True,figsize=(15, 10))\n",
    "\n"
   ]
  },
  {
   "cell_type": "code",
   "execution_count": null,
   "metadata": {},
   "outputs": [],
   "source": [
    "#influenza deaths\n",
    "year_df[\"State\"].unique()\n",
    "year_df[\"Age Group\"].unique()\n",
    "i=year_df.groupby([\"State\"])[\"Influenza Deaths\"].count().reset_index()\n",
    "i.drop(i[i['State'] == \"United States\"].index, inplace = True)\n",
    "plt.savefig(\"Resources/Images/InfluenzdeathsByState.png\")\n",
    "i.sort_values('Influenza Deaths', ascending=True).plot.barh(x='State', title='Number of Influenza Deaths by State'\n",
    "                                                            ,figsize=(17, 10))\n"
   ]
  },
  {
   "cell_type": "code",
   "execution_count": null,
   "metadata": {},
   "outputs": [],
   "source": [
    "i=year_df.groupby([\"State\"])[\"Pneumonia Deaths\"].count().reset_index()\n",
    "i.drop(i[i['State'] == \"United States\"].index, inplace = True)\n",
    "plt.savefig(\"Resources/Images/PneumoniadeathsByState.png\")\n",
    "i.sort_values('Pneumonia Deaths', ascending=True).plot.barh(x='State', title='Number of Pneumonia Deaths by State'\n",
    "                                                            ,figsize=(17, 10))\n"
   ]
  },
  {
   "cell_type": "code",
   "execution_count": null,
   "metadata": {},
   "outputs": [],
   "source": [
    "#Which months have the most deaths for Covid\n",
    "\n",
    "month_df.head()\n",
    "\n",
    "y=month_df.groupby(\"Month\")[\"COVID-19 Deaths\"].count().reset_index()\n",
    "y"
   ]
  },
  {
   "cell_type": "code",
   "execution_count": null,
   "metadata": {},
   "outputs": [],
   "source": [
    "#covid deaths by month\n",
    "y.plot.bar(x=\"Month\", title='Number of Covid Deaths by Month',ylabel=\"Number of Deaths\")\n",
    "\n",
    "\n"
   ]
  },
  {
   "cell_type": "code",
   "execution_count": null,
   "metadata": {},
   "outputs": [],
   "source": [
    "bins=[0.0,4.0,7.0,10.0,12.0]\n",
    "labels=[\"Winter\",\"Spring\",\"Summer\",\"Fall\"]\n",
    "month_df['Season'] = pd.cut(month_df['Month'], bins=bins, labels=labels)"
   ]
  },
  {
   "cell_type": "code",
   "execution_count": null,
   "metadata": {},
   "outputs": [],
   "source": [
    "df_binned_season=month_df.groupby(\"Season\")[\"COVID-19 Deaths\"].count().reset_index()\n",
    "df_binned_season"
   ]
  },
  {
   "cell_type": "code",
   "execution_count": null,
   "metadata": {},
   "outputs": [],
   "source": [
    "#binning per season\n",
    "#Jan-March:Winter April-June:Spring July-September:Summer October-Decemeber:Fall\n",
    "#did all of the years but thinking we can maybe focus on 2020-2021- since all the months have passed?\n",
    "plt.savefig(\"Resources/Images/CovidDeathsperSeason.png\")\n",
    "sns.barplot(x = 'Season', y = 'COVID-19 Deaths', data = df_binned_season ,\n",
    "            palette=\"hls\")\n",
    "plt.title=('Covid-19 Deaths by Season')\n",
    "\n"
   ]
  },
  {
   "cell_type": "code",
   "execution_count": null,
   "metadata": {},
   "outputs": [],
   "source": [
    "#Correlation Graph\n",
    "#getting some errors so still working on it\n",
    "#correlation = st.pearsonr(month_df[\"Month\"],month_df[\"COVID-19 Deaths\"])\n",
    "fig1, ax1 = plt.subplots(figsize=(8, 5))\n",
    "sns.scatterplot(x = \"Month\",\n",
    "            y = \"COVID-19 Deaths\", \n",
    "            data = month_df)\n",
    "#print(f\"The correlation between Months and the COVID-19-Deaths is {round(correlation[0],2)}\")\n"
   ]
  }
 ],
 "metadata": {
  "kernelspec": {
   "display_name": "Python [conda env:PythonData38] *",
   "language": "python",
   "name": "conda-env-PythonData38-py"
  },
  "language_info": {
   "codemirror_mode": {
    "name": "ipython",
    "version": 3
   },
   "file_extension": ".py",
   "mimetype": "text/x-python",
   "name": "python",
   "nbconvert_exporter": "python",
   "pygments_lexer": "ipython3",
   "version": "3.8.12"
  }
 },
 "nbformat": 4,
 "nbformat_minor": 5
}
