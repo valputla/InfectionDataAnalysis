{
 "cells": [
  {
   "cell_type": "code",
   "execution_count": null,
   "metadata": {},
   "outputs": [],
   "source": [
    "import matplotlib.pyplot as plt\n",
    "import pandas as pd"
   ]
  },
  {
   "cell_type": "code",
   "execution_count": null,
   "metadata": {},
   "outputs": [],
   "source": [
    "#This is the full data frame with some extra columns removed\n",
    "health_df = pd.read_csv(\"Resources/Provisional_COVID-19_Deaths_by_Sex_and_Age.csv\")\n",
    "health_df = health_df.drop(columns = [\"Data As Of\", \"Start Date\", \"End Date\", \"Footnote\"])\n",
    "health_df.head()"
   ]
  },
  {
   "cell_type": "code",
   "execution_count": null,
   "metadata": {},
   "outputs": [],
   "source": [
    "#I have removed some random age groups\n",
    "age_adjusted_df = health_df.loc[(health_df[\"Age Group\"] != \"40-49 years\") &\n",
    "                                (health_df[\"Age Group\"] != \"30-39 years\") &\n",
    "                                (health_df[\"Age Group\"] != \"18-29 years\") &\n",
    "                                (health_df[\"Age Group\"] != \"0-17 years\") &\n",
    "                                (health_df[\"Age Group\"] != \"50-64 years\"), :]"
   ]
  },
  {
   "cell_type": "code",
   "execution_count": null,
   "metadata": {},
   "outputs": [],
   "source": [
    "#This data frame shows deaths regardless of Year and Month\n",
    "#This data frame can be sorted by State, Sex, and Age Group\n",
    "#State: You can choose any of the 50 states, Puerto Rico, or the United States as a whole\n",
    "#Sex: Male, Female, All Sexes\n",
    "#Age Group:\n",
    "    #All ages\n",
    "    #Under 1 year\n",
    "    #1-4 years old\n",
    "    #5-14 years old\n",
    "    #15-24 years old\n",
    "    #25-34 years old\n",
    "    #35-44 years old\n",
    "    #45-54 years old\n",
    "    #55-64 years old\n",
    "    #65-74 years old\n",
    "    #75-84 years old\n",
    "    #85 years and over\n",
    "total_df = age_adjusted_df.loc[health_df[\"Group\"] == \"By Total\", :]\n",
    "total_df = total_df.drop(columns = [\"Year\", \"Month\", \"Group\"])\n",
    "total_df.head()"
   ]
  },
  {
   "cell_type": "code",
   "execution_count": null,
   "metadata": {},
   "outputs": [],
   "source": [
    "#This data frame shows deaths by year, regardless of Month.\n",
    "#You can pick 2020, 2021, or 2022\n",
    "#This data frame can be sorted by State, Sex, and Age Group\n",
    "#State: You can choose any of the 50 states, Puerto Rico, or the United States as a whole\n",
    "#Sex: Male, Female, All Sexes\n",
    "#Age Group:\n",
    "    #All ages\n",
    "    #Under 1 year\n",
    "    #1-4 years old\n",
    "    #5-14 years old\n",
    "    #15-24 years old\n",
    "    #25-34 years old\n",
    "    #35-44 years old\n",
    "    #45-54 years old\n",
    "    #55-64 years old\n",
    "    #65-74 years old\n",
    "    #75-84 years old\n",
    "    #85 years and over\n",
    "year_df = age_adjusted_df.loc[health_df[\"Group\"] == \"By Year\", :]\n",
    "year_df = year_df.drop(columns = [\"Month\", \"Group\"])\n",
    "year_df.head()"
   ]
  },
  {
   "cell_type": "code",
   "execution_count": null,
   "metadata": {},
   "outputs": [],
   "source": [
    "#This data frame shows deaths by Month.\n",
    "#You can pick any month numerically (ex. January = 1.0)\n",
    "#This data frame can be sorted by Year, State, Sex, and Age Group\n",
    "#Year: You can pick 2020, 2021, or 2022\n",
    "#State: You can choose any of the 50 states, Puerto Rico, or the United States as a whole\n",
    "#Sex: Male, Female, All Sexes\n",
    "#Age Group:\n",
    "    #All ages\n",
    "    #Under 1 year\n",
    "    #1-4 years old\n",
    "    #5-14 years old\n",
    "    #15-24 years old\n",
    "    #25-34 years old\n",
    "    #35-44 years old\n",
    "    #45-54 years old\n",
    "    #55-64 years old\n",
    "    #65-74 years old\n",
    "    #75-84 years old\n",
    "    #85 years and over\n",
    "month_df = age_adjusted_df.loc[health_df[\"Group\"] == \"By Month\", :]\n",
    "month_df = month_df.drop(columns = \"Group\")\n",
    "month_df.head()"
   ]
  },
  {
   "cell_type": "code",
   "execution_count": null,
   "metadata": {},
   "outputs": [],
   "source": [
    "#Flu deaths by state/age\n",
    "year_df[\"State\"].unique()\n",
    "year_df[\"Age Group\"].unique()\n",
    "x=year_df.groupby([\"State\",\"Age Group\"])[\"Influenza Deaths\"].count()\n",
    "\n",
    "x"
   ]
  },
  {
   "cell_type": "code",
   "execution_count": null,
   "metadata": {},
   "outputs": [],
   "source": [
    "#This looks terrible now, but trying to do a stacked bar chart based on influenza deaths by state and age\n",
    "\n",
    "fig1, ax = plt.subplots(figsize=(15,15))\n",
    "x.plot.barh(x='State', stacked=True, title='Number of Influenza Deaths by State')\n",
    "\n"
   ]
  },
  {
   "cell_type": "code",
   "execution_count": null,
   "metadata": {},
   "outputs": [],
   "source": [
    "#influenza deaths\n",
    "year_df[\"State\"].unique()\n",
    "year_df[\"Age Group\"].unique()\n",
    "i=year_df.groupby([\"State\"])[\"Influenza Deaths\"].count()\n",
    "\n",
    "z\n",
    "fig1, ax = plt.subplots(figsize=(15,15))\n",
    "i.plot.barh(x='State', title='Number of Influenza Deaths by State')"
   ]
  },
  {
   "cell_type": "code",
   "execution_count": null,
   "metadata": {},
   "outputs": [],
   "source": [
    "year_df[\"State\"].unique()\n",
    "year_df[\"Age Group\"].unique()\n",
    "a=year_df.groupby([\"State\"])[\"Influenza Deaths\"].count()\n",
    "\n",
    "z\n",
    "fig1, ax = plt.subplots(figsize=(15,15))\n",
    "z.plot.barh(x='State', title='Number of Influenza Deaths by State')"
   ]
  },
  {
   "cell_type": "code",
   "execution_count": null,
   "metadata": {},
   "outputs": [],
   "source": [
    "#Which months have the most deaths for Covid\n",
    "\n",
    "month_df.head()\n",
    "\n",
    "y=month_df.groupby(\"Month\")[\"COVID-19 Deaths\"].count()\n",
    "y"
   ]
  },
  {
   "cell_type": "code",
   "execution_count": null,
   "metadata": {},
   "outputs": [],
   "source": [
    "#covid deaths by month\n",
    "y.plot.bar(x=\"Month\", title='Number of Covid Deaths by Month',ylabel=\"Number of Deaths\")\n"
   ]
  },
  {
   "cell_type": "code",
   "execution_count": null,
   "metadata": {},
   "outputs": [],
   "source": [
    "#create bins to look at seasons\n",
    "#still working on this\n",
    "\n",
    "y=pd.DataFrame()\n",
    "y=pd.DataFrame()\n",
    "y[\"Number of Covid Deaths\"] = month_df.groupby(\"Month\")[\"COVID-19 Deaths\"].count()\n",
    "bins = [1.0,4.0, 8.0, 12.0]\n",
    "group_names = [\"Winter\", \"Spring\", \"Summer\",\"Autumn\"]\n",
    "y\n",
    "\n",
    "y[\"Seasons\"] = pd.cut(y[\"Month\"],bins=bins,labels=group_names) \n"
   ]
  },
  {
   "cell_type": "code",
   "execution_count": null,
   "metadata": {},
   "outputs": [],
   "source": []
  }
 ],
 "metadata": {
  "kernelspec": {
   "display_name": "Python [conda env:PythonData38] *",
   "language": "python",
   "name": "conda-env-PythonData38-py"
  },
  "language_info": {
   "codemirror_mode": {
    "name": "ipython",
    "version": 3
   },
   "file_extension": ".py",
   "mimetype": "text/x-python",
   "name": "python",
   "nbconvert_exporter": "python",
   "pygments_lexer": "ipython3",
   "version": "3.8.12"
  }
 },
 "nbformat": 4,
 "nbformat_minor": 5
}
