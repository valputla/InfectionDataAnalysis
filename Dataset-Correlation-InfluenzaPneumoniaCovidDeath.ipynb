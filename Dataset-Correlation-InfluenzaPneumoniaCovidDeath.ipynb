{
 "cells": [
  {
   "cell_type": "code",
   "execution_count": null,
   "id": "c5e5a29d",
   "metadata": {},
   "outputs": [],
   "source": [
    "\n",
    "year_df.replace([np.inf, -np.inf], np.nan, inplace=True)\n",
    "year_df.dropna(subset=[\"Pneumonia Deaths\", \"COVID-19 Deaths\"], how=\"all\", inplace = True)\n",
    "year_df['COVID-19 Deaths'].value_counts()\n",
    "plt.scatter(year_df['Pneumonia Deaths'], year_df['COVID-19 Deaths'])\n",
    "plt.title('Correlation of Pneumonia and COVID-19 Deaths, Years 2020-2022')\n",
    "plt.xlabel('Pneumonia Deaths')\n",
    "plt.ylabel('COVID-19 Deaths')\n",
    "plt.savefig('Resources/Images/pneumonia_covid_corr.png')\n",
    "correlationpneumonia = year_df['Pneumonia Deaths'].corr(year_df['COVID-19 Deaths'])\n",
    "print('Correlation Coefficient of Pneumonia and COVID-19 Deaths is ' + str(round(correlationpneumonia, 4)))\n",
    "\n",
    "\n"
   ]
  },
  {
   "cell_type": "code",
   "execution_count": null,
   "id": "417cf30a",
   "metadata": {},
   "outputs": [],
   "source": [
    "year_df.replace([np.inf, -np.inf], np.nan, inplace=True)\n",
    "year_df.dropna(subset=[\"Influenza Deaths\", \"COVID-19 Deaths\"], how=\"all\")\n",
    "plt.scatter(year_df['Influenza Deaths'], year_df['COVID-19 Deaths'])\n",
    "plt.title('Correlation of Influenza and COVID-19 Deaths, Years 2020-2022')\n",
    "plt.xlabel('Influenza Deaths')\n",
    "plt.ylabel('COVID-19 Deaths')\n",
    "plt.savefig('Resources/Images/influenza_covid_corr.png')\n",
    "correlationflu = year_df['Influenza Deaths'].corr(year_df['COVID-19 Deaths'])\n",
    "print('Correlation Coefficient of Influenza and COVID-19 Deaths is ' + str(round(correlationflu, 4)))\n"
   ]
  }
 ],
 "metadata": {
  "kernelspec": {
   "display_name": "Python 3 (ipykernel)",
   "language": "python",
   "name": "python3"
  },
  "language_info": {
   "codemirror_mode": {
    "name": "ipython",
    "version": 3
   },
   "file_extension": ".py",
   "mimetype": "text/x-python",
   "name": "python",
   "nbconvert_exporter": "python",
   "pygments_lexer": "ipython3",
   "version": "3.9.7"
  }
 },
 "nbformat": 4,
 "nbformat_minor": 5
}
