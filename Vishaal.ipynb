{
 "cells": [
  {
   "cell_type": "code",
   "execution_count": null,
   "id": "3c9b489a",
   "metadata": {},
   "outputs": [],
   "source": [
    "import matplotlib.pyplot as plt\n",
    "import pandas as pd\n",
    "from scipy.stats import linregress\n",
    "import seaborn as sns\n",
    "import numpy as np"
   ]
  },
  {
   "cell_type": "code",
   "execution_count": null,
   "id": "145e75fb",
   "metadata": {},
   "outputs": [],
   "source": [
    "#This is the full data frame with some extra columns removed\n",
    "health_df = pd.read_csv(\"Resources/Provisional_COVID-19_Deaths_by_Sex_and_Age.csv\")\n",
    "health_df = health_df.drop(columns = [\"Data As Of\", \"Start Date\", \"End Date\", \"Footnote\"])\n",
    "health_df.head()"
   ]
  },
  {
   "cell_type": "code",
   "execution_count": null,
   "id": "779e0d62",
   "metadata": {},
   "outputs": [],
   "source": [
    "#I have removed some random age groups\n",
    "age_adjusted_df = health_df.loc[(health_df[\"Age Group\"] != \"40-49 years\") &\n",
    "                                (health_df[\"Age Group\"] != \"30-39 years\") &\n",
    "                                (health_df[\"Age Group\"] != \"18-29 years\") &\n",
    "                                (health_df[\"Age Group\"] != \"0-17 years\") &\n",
    "                                (health_df[\"Age Group\"] != \"50-64 years\"), :]"
   ]
  },
  {
   "cell_type": "code",
   "execution_count": null,
   "id": "2aa45a94",
   "metadata": {},
   "outputs": [],
   "source": [
    "#This data frame shows deaths regardless of Year and Month\n",
    "#This data frame can be sorted by State, Sex, and Age Group\n",
    "#State: You can choose any of the 50 states, Puerto Rico, or the United States as a whole\n",
    "#Sex: Male, Female, All Sexes\n",
    "#Age Group:\n",
    "    #All ages\n",
    "    #Under 1 year\n",
    "    #1-4 years old\n",
    "    #5-14 years old\n",
    "    #15-24 years old\n",
    "    #25-34 years old\n",
    "    #35-44 years old\n",
    "    #45-54 years old\n",
    "    #55-64 years old\n",
    "    #65-74 years old\n",
    "    #75-84 years old\n",
    "    #85 years and over\n",
    "total_df = age_adjusted_df.loc[health_df[\"Group\"] == \"By Total\", :]\n",
    "total_df = total_df.drop(columns = [\"Year\", \"Month\", \"Group\"])\n",
    "total_df.head()"
   ]
  },
  {
   "cell_type": "code",
   "execution_count": null,
   "id": "3889d718",
   "metadata": {},
   "outputs": [],
   "source": [
    "#This data frame shows deaths by year, regardless of Month.\n",
    "#You can pick 2020, 2021, or 2022\n",
    "#This data frame can be sorted by State, Sex, and Age Group\n",
    "#State: You can choose any of the 50 states, Puerto Rico, or the United States as a whole\n",
    "#Sex: Male, Female, All Sexes\n",
    "#Age Group:\n",
    "    #All ages\n",
    "    #Under 1 year\n",
    "    #1-4 years old\n",
    "    #5-14 years old\n",
    "    #15-24 years old\n",
    "    #25-34 years old\n",
    "    #35-44 years old\n",
    "    #45-54 years old\n",
    "    #55-64 years old\n",
    "    #65-74 years old\n",
    "    #75-84 years old\n",
    "    #85 years and over\n",
    "year_df = age_adjusted_df.loc[health_df[\"Group\"] == \"By Year\", :]\n",
    "year_df = year_df.drop(columns = [\"Month\", \"Group\"])\n",
    "year_df.head()"
   ]
  },
  {
   "cell_type": "code",
   "execution_count": null,
   "id": "5a6d1bc4",
   "metadata": {},
   "outputs": [],
   "source": [
    "#This data frame shows deaths by Month.\n",
    "#You can pick any month numerically (ex. January = 1.0)\n",
    "#This data frame can be sorted by Year, State, Sex, and Age Group\n",
    "#Year: You can pick 2020, 2021, or 2022\n",
    "#State: You can choose any of the 50 states, Puerto Rico, or the United States as a whole\n",
    "#Sex: Male, Female, All Sexes\n",
    "#Age Group:\n",
    "    #All ages\n",
    "    #Under 1 year\n",
    "    #1-4 years old\n",
    "    #5-14 years old\n",
    "    #15-24 years old\n",
    "    #25-34 years old\n",
    "    #35-44 years old\n",
    "    #45-54 years old\n",
    "    #55-64 years old\n",
    "    #65-74 years old\n",
    "    #75-84 years old\n",
    "    #85 years and over\n",
    "month_df = age_adjusted_df.loc[health_df[\"Group\"] == \"By Month\", :]\n",
    "month_df = month_df.drop(columns = \"Group\")\n",
    "month_df.head()"
   ]
  },
  {
   "cell_type": "code",
   "execution_count": null,
   "id": "ece13667",
   "metadata": {},
   "outputs": [],
   "source": [
    "men = year_df[\"Sex\"] == \"Men\"\n",
    "print(f\"There are {men.count()} men in the dataframe.\")\n",
    "      \n",
    "women = year_df[\"Sex\"] == \"Women\"\n",
    "print(f\"There are {women.count()} women in the dataframe.\")    "
   ]
  },
  {
   "cell_type": "code",
   "execution_count": null,
   "id": "aa0a879b",
   "metadata": {},
   "outputs": [],
   "source": [
    "ax = sns.barplot(data = year_df, x=\"Year\", y = \"COVID-19 Deaths\", hue = \"Sex\", ci=None, palette=\"viridis\")\n",
    "plt.title(\"COVID-19 Deaths from 2019-2022\")\n",
    "ax.set_xticklabels([\"2020\", \"2021\", \"2022\"])\n",
    "plt.show()\n",
    "\n",
    "#This plot shows that more men have died from COVID than women because\n",
    "#the above line of code states there are an equal number of men and women in the dataframe.\n",
    "#The most people died in 2021, but it was the only time we have an entire year's data."
   ]
  },
  {
   "cell_type": "code",
   "execution_count": null,
   "id": "0a4638c3",
   "metadata": {},
   "outputs": [],
   "source": [
    "#The most COVID deaths occurred in Dec 2020 and Jan 2021. \n",
    "#From Feb - Jun 2021, there was a steady decline as vaccines became available.\n",
    "\n",
    "months = [\"Jan\", \"Feb\", \"Mar\", \"Apr\", \"May\", \"Jun\", \"Jul\", \"Aug\", \"Sep\", \"Oct\", \"Nov\", \"Dec\"]\n",
    "\n",
    "f, ax = plt.subplots(figsize = (8,6))\n",
    "ax = sns.barplot(data = month_df, x=\"Month\", y = \"COVID-19 Deaths\", \n",
    "                 hue = \"Year\", ci=None, palette=\"rocket\")\n",
    "ax.set_xticklabels(months)\n",
    "ax.set_title(\"COVID-19 Deaths from 2019-2022 by Month\")\n",
    "plt.legend(loc=\"upper center\")\n",
    "plt.show()"
   ]
  },
  {
   "cell_type": "code",
   "execution_count": null,
   "id": "6e32a9a8",
   "metadata": {},
   "outputs": [],
   "source": [
    "total_deaths = total_df.iloc[0, :]\n",
    "total_deaths_df = pd.DataFrame(index = [0,1,2])\n",
    "total_deaths_df[\"Disease Type\"] = [\"COVID-19\", \"Pneumonia\", \"Influenza\"]\n",
    "total_deaths_df[\"Total Deaths (by thousands)\"] = [total_deaths[\"COVID-19 Deaths\"] / 1000,\n",
    "                                                  total_deaths[\"Pneumonia Deaths\"] / 1000,\n",
    "                                                  total_deaths[\"Influenza Deaths\"] / 1000]"
   ]
  },
  {
   "cell_type": "code",
   "execution_count": null,
   "id": "fa108e04",
   "metadata": {},
   "outputs": [],
   "source": [
    "f, ax = plt.subplots(figsize = (8,6))\n",
    "ax = sns.barplot(data = total_deaths_df, x = \"Disease Type\", y = \"Total Deaths (by thousands)\", \n",
    "                  ci=None, palette=\"rocket\")\n",
    "ax.set_title(\"Total Deaths by Disease from 2020-2022\")\n",
    "plt.ylim([0, total_deaths_df[\"Total Deaths (by thousands)\"].max() + 100])\n",
    "plt.rc('axes', labelsize=16, titlesize=16) \n",
    "plt.savefig(\"Resources/Images/TotalDeaths.png\")\n",
    "plt.show()\n",
    "\n",
    "#This graph shows the total deaths by Disease from the start of 2020.\n",
    "#There were significantly more COVID-19 and Pneumonia deaths than Influenza deaths."
   ]
  },
  {
   "cell_type": "code",
   "execution_count": null,
   "id": "e5686bcb",
   "metadata": {},
   "outputs": [],
   "source": [
    "year = [2020.0, 2021.0, 2022.0]\n",
    "covid = []\n",
    "pneumonia = []\n",
    "influenza = []\n",
    "for x in year:\n",
    "    deaths = year_df.loc[(year_df[\"Year\"] == x) & (year_df[\"State\"] == \"United States\") &\n",
    "                        (year_df[\"Sex\"] == \"All Sexes\") & (year_df[\"Age Group\"] == \"All Ages\")]\n",
    "    covid.append(deaths[\"COVID-19 Deaths\"] / 1000)\n",
    "    pneumonia.append(deaths[\"Pneumonia Deaths\"] / 1000)\n",
    "    influenza.append(deaths[\"Influenza Deaths\"] / 1000)\n",
    "yearly_deaths_df = pd.DataFrame(index = range(0, 9))\n",
    "yearly_deaths_df[\"Year\"] = [\"2020\", \"2020\", \"2020\", \"2021\", \"2021\", \"2021\", \"2022\", \"2022\", \"2022\"]\n",
    "yearly_deaths_df[\"Disease Type\"] = [\"COVID-19\", \"COVID-19\", \"COVID-19\", \"Pneumonia\", \"Pneumonia\", \"Pneumonia\",\n",
    "                                   \"Influenza\", \"Influenza\", \"Influenza\"]\n",
    "yearly_deaths_df[\"Total Deaths (by thousands)\"] = \"\"\n",
    "for x in range(len(covid)):\n",
    "    yearly_deaths_df.iloc[x, 2] = covid[x]\n",
    "    yearly_deaths_df.iloc[x + 3, 2] = pneumonia[x]\n",
    "    yearly_deaths_df.iloc[x + 6, 2] = influenza[x]"
   ]
  },
  {
   "cell_type": "code",
   "execution_count": null,
   "id": "24004b68",
   "metadata": {},
   "outputs": [],
   "source": [
    "x_values = [\"2020\", \"2021\", \"2022\"]\n",
    "y_covid = yearly_deaths_df.loc[yearly_deaths_df[\"Disease Type\"] == \"COVID-19\", :]\n",
    "y_pneumonia = yearly_deaths_df.loc[yearly_deaths_df[\"Disease Type\"] == \"Pneumonia\", :]\n",
    "y_influenza = yearly_deaths_df.loc[yearly_deaths_df[\"Disease Type\"] == \"Influenza\", :]\n",
    "covid_handle, = plt.plot(x_values, y_covid[\"Total Deaths (by thousands)\"], marker = 'o', label = \"COVID-19\")\n",
    "pneumonia_handle, = plt.plot(x_values, y_pneumonia[\"Total Deaths (by thousands)\"],  marker = 'o', \n",
    "                             label = \"Pneumonia\")\n",
    "influenza_handle, = plt.plot(x_values, y_influenza[\"Total Deaths (by thousands)\"],  marker = 'o',\n",
    "                            label = \"Influenza\")\n",
    "plt.title(\"Total Deaths by Year\")\n",
    "plt.xlabel(\"Year\")\n",
    "plt.ylabel(\"Total Deaths (by thousands)\")\n",
    "plt.legend()\n",
    "plt.savefig(\"Resources/Images/TotalDeathsByYear.png\")\n",
    "plt.show()\n",
    "\n",
    "#This graph shows that COVID-19 and Pneumonia deaths dropped significantly in 2022 and the \n",
    "#number of Influenza deaths has stayed steady"
   ]
  },
  {
   "cell_type": "code",
   "execution_count": null,
   "id": "b5302d4c",
   "metadata": {},
   "outputs": [],
   "source": [
    "age_groups = total_df[\"Age Group\"].unique()\n",
    "covid_age = []\n",
    "pneumonia_age = []\n",
    "influenza_age = []\n",
    "age_deaths_df = pd.DataFrame(index = range(0, 36))\n",
    "age_deaths_df[\"Age Group\"] = \"\"\n",
    "age_deaths_df[\"Disease Type\"] = \"\"\n",
    "age_deaths_df[\"Total Deaths (by thousands)\"] = \"\"\n",
    "for age in range(len(age_groups)):\n",
    "    deaths_age = total_df.loc[(total_df[\"State\"] == \"United States\") &\n",
    "                    (total_df[\"Sex\"] == \"All Sexes\") & (total_df[\"Age Group\"] == age_groups[age])]\n",
    "    covid_age.append(deaths_age[\"COVID-19 Deaths\"] / 1000)\n",
    "    pneumonia_age.append(deaths_age[\"Pneumonia Deaths\"] / 1000)\n",
    "    influenza_age.append(deaths_age[\"Influenza Deaths\"] / 1000)\n",
    "    age_deaths_df.iloc[range(age * 3, (age*3)+3), 0] = age_groups[age]\n",
    "    age_deaths_df.iloc[age * 3, 1] = \"COVID-19\"\n",
    "    age_deaths_df.iloc[(age*3)+1, 1] =  \"Pneumonia\"\n",
    "    age_deaths_df.iloc[(age*3)+2, 1] =  \"Influenza\"\n",
    "    age_deaths_df.iloc[age * 3, 2] = deaths_age[\"COVID-19 Deaths\"] / 1000\n",
    "    age_deaths_df.iloc[(age*3)+1, 2] = deaths_age[\"Pneumonia Deaths\"] / 1000\n",
    "    age_deaths_df.iloc[(age*3)+2, 2] = deaths_age[\"Influenza Deaths\"] / 1000\n",
    "age_deaths_df = age_deaths_df.loc[age_deaths_df[\"Age Group\"] != \"All Ages\"]"
   ]
  },
  {
   "cell_type": "code",
   "execution_count": null,
   "id": "4b0ce686",
   "metadata": {},
   "outputs": [],
   "source": [
    "f, ax = plt.subplots(figsize = (8,6))\n",
    "ax = sns.barplot(data = age_deaths_df, x=\"Age Group\", y = \"Total Deaths (by thousands)\", \n",
    "                 hue = \"Disease Type\", ci=None, palette=\"rocket\")\n",
    "ax.set_xticklabels(age_groups[1:12], rotation='vertical')\n",
    "ax.set_title(\"Total Deaths by Age Group\")\n",
    "plt.legend(loc=\"upper center\")\n",
    "plt.savefig(\"Resources/Images/TotalDeathsByAge.png\")\n",
    "plt.show()\n",
    "\n",
    "#This graph shows that deaths caused by these diseases occured mostly in people who were 45+ years old "
   ]
  },
  {
   "cell_type": "code",
   "execution_count": null,
   "id": "f41baf47",
   "metadata": {},
   "outputs": [],
   "source": [
    "covid_age_deaths_df = age_deaths_df.loc[age_deaths_df[\"Disease Type\"] == \"COVID-19\"]\n",
    "covid_age_deaths_df[\"Age\"] = range(1,12)\n",
    "covid_age_deaths_df['Total Deaths (by thousands)'] = covid_age_deaths_df['Total Deaths (by thousands)'].astype('int64')"
   ]
  },
  {
   "cell_type": "code",
   "execution_count": null,
   "id": "dd308a63",
   "metadata": {},
   "outputs": [],
   "source": [
    "(slope, intercept, rvalue, pvalue, stderr) = linregress((covid_age_deaths_df[\"Age\"]).astype(float), \n",
    "                                                        covid_age_deaths_df[\"Total Deaths (by thousands)\"])\n",
    "regress_values = covid_age_deaths_df[\"Age\"] * slope + intercept\n",
    "line_eq = \"y = \" + str(round(slope,2)) + \"x + \" + str(round(intercept,2))\n",
    "\n",
    "plt.plot(covid_age_deaths_df[\"Age\"],regress_values,\"r-\")\n",
    "plt.annotate(line_eq,(200, 50),fontsize=15,color=\"red\")\n",
    "\n",
    "unique, index = np.unique(age_groups[1:12], return_index=True)\n",
    "plt.scatter(covid_age_deaths_df[\"Age\"], covid_age_deaths_df[\"Total Deaths (by thousands)\"])\n",
    "plt.title(\"Age vs COVID-19 Deaths\")\n",
    "plt.xlabel(\"Age\")\n",
    "plt.ylabel(\"Total Deaths (by thousands)\")\n",
    "plt.xticks(range(1, len(unique) + 1), unique[index.argsort()], rotation = 'vertical')\n",
    "print(f\"The r-value is: {rvalue**2}\")\n",
    "plt.savefig(\"Resources/Images/AgeVsDeaths.png\")\n",
    "plt.show()\n",
    "\n",
    "#There is a strong correlation between age and number of deaths related to COVID-19, Pneumonia, and Influenza."
   ]
  },
  {
   "cell_type": "code",
   "execution_count": null,
   "id": "7743b09d",
   "metadata": {},
   "outputs": [],
   "source": []
  }
 ],
 "metadata": {
  "kernelspec": {
   "display_name": "Python [conda env:PythonData38] *",
   "language": "python",
   "name": "conda-env-PythonData38-py"
  },
  "language_info": {
   "codemirror_mode": {
    "name": "ipython",
    "version": 3
   },
   "file_extension": ".py",
   "mimetype": "text/x-python",
   "name": "python",
   "nbconvert_exporter": "python",
   "pygments_lexer": "ipython3",
   "version": "3.8.12"
  }
 },
 "nbformat": 4,
 "nbformat_minor": 5
}
